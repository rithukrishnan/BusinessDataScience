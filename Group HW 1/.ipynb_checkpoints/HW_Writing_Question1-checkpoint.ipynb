{
 "cells": [
  {
   "cell_type": "raw",
   "id": "985a0d55",
   "metadata": {},
   "source": [
    "Consider the vectors v1 = [1, 1, 1] and v2 = [1, 0, 0]. These two\n",
    "vectors define a 2-dimensional subspace of R3. Project the points P 1 = [3, 3, 3], P 2 =\n",
    "[1, 2, 3], P 3 = [0, 0, 1] on this subspace. Write down the coordinates of the three projected\n",
    "points."
   ]
  },
  {
   "cell_type": "code",
   "execution_count": 11,
   "id": "2cce9ae1",
   "metadata": {},
   "outputs": [],
   "source": [
    "import numpy as np\n",
    "from numpy.linalg import inv\n",
    "\n",
    "v1 = np.array([1,1,1])\n",
    "v2 = np.array([1,0,0])\n",
    "\n",
    "x = np.array([[1, 1],[1, 0],[1,0]])\n",
    "xt = x.transpose()"
   ]
  },
  {
   "cell_type": "code",
   "execution_count": 29,
   "id": "e722a478",
   "metadata": {},
   "outputs": [
    {
     "data": {
      "text/plain": [
       "array([[1, 1, 1],\n",
       "       [1, 0, 0]])"
      ]
     },
     "execution_count": 29,
     "metadata": {},
     "output_type": "execute_result"
    }
   ],
   "source": [
    "xt"
   ]
  },
  {
   "cell_type": "code",
   "execution_count": 12,
   "id": "909f2264",
   "metadata": {},
   "outputs": [],
   "source": [
    "xtx = np.dot(xt, x)"
   ]
  },
  {
   "cell_type": "code",
   "execution_count": 10,
   "id": "ee666c13",
   "metadata": {},
   "outputs": [
    {
     "data": {
      "text/plain": [
       "array([[3, 1],\n",
       "       [1, 1]])"
      ]
     },
     "execution_count": 10,
     "metadata": {},
     "output_type": "execute_result"
    }
   ],
   "source": [
    "xtx"
   ]
  },
  {
   "cell_type": "code",
   "execution_count": 16,
   "id": "e68ecd4a",
   "metadata": {},
   "outputs": [],
   "source": [
    "xtx_inv = inv(xtx)"
   ]
  },
  {
   "cell_type": "code",
   "execution_count": 21,
   "id": "d0ac593a",
   "metadata": {},
   "outputs": [
    {
     "data": {
      "text/plain": [
       "array([[ 0.5, -0.5],\n",
       "       [-0.5,  1.5]])"
      ]
     },
     "execution_count": 21,
     "metadata": {},
     "output_type": "execute_result"
    }
   ],
   "source": [
    "xtx_inv"
   ]
  },
  {
   "cell_type": "code",
   "execution_count": 31,
   "id": "ce5c63df",
   "metadata": {},
   "outputs": [],
   "source": [
    "innerproduct = np.matmul(xtx_inv, xt)"
   ]
  },
  {
   "cell_type": "code",
   "execution_count": 38,
   "id": "78f93882",
   "metadata": {},
   "outputs": [
    {
     "data": {
      "text/plain": [
       "array([3.00000000e+00, 3.33066907e-16])"
      ]
     },
     "execution_count": 38,
     "metadata": {},
     "output_type": "execute_result"
    }
   ],
   "source": [
    "p1 = np.array([3,3,3])\n",
    "bp1 = np.dot(innerproduct, p1)\n",
    "bp1"
   ]
  },
  {
   "cell_type": "code",
   "execution_count": 37,
   "id": "56f257a0",
   "metadata": {},
   "outputs": [
    {
     "data": {
      "text/plain": [
       "array([ 2.5, -1.5])"
      ]
     },
     "execution_count": 37,
     "metadata": {},
     "output_type": "execute_result"
    }
   ],
   "source": [
    "p2 = np.array([1,2,3])\n",
    "bp2 = np.dot(innerproduct, p2)\n",
    "bp2"
   ]
  },
  {
   "cell_type": "code",
   "execution_count": 42,
   "id": "35a26b7f",
   "metadata": {},
   "outputs": [
    {
     "data": {
      "text/plain": [
       "array([ 0.5, -0.5])"
      ]
     },
     "execution_count": 42,
     "metadata": {},
     "output_type": "execute_result"
    }
   ],
   "source": [
    "p3 = np.array([0,0,1])\n",
    "bp3 = np.dot(innerproduct, p3)\n",
    "bp3"
   ]
  },
  {
   "cell_type": "code",
   "execution_count": 39,
   "id": "6753cac9",
   "metadata": {},
   "outputs": [
    {
     "data": {
      "text/plain": [
       "array([3., 3., 3.])"
      ]
     },
     "execution_count": 39,
     "metadata": {},
     "output_type": "execute_result"
    }
   ],
   "source": [
    "p1hat = np.dot(x, bp1)\n",
    "p1hat"
   ]
  },
  {
   "cell_type": "code",
   "execution_count": 40,
   "id": "25590684",
   "metadata": {},
   "outputs": [
    {
     "data": {
      "text/plain": [
       "array([1. , 2.5, 2.5])"
      ]
     },
     "execution_count": 40,
     "metadata": {},
     "output_type": "execute_result"
    }
   ],
   "source": [
    "p2hat = np.dot(x, bp2)\n",
    "p2hat"
   ]
  },
  {
   "cell_type": "code",
   "execution_count": 43,
   "id": "50970826",
   "metadata": {},
   "outputs": [
    {
     "data": {
      "text/plain": [
       "array([1.11022302e-16, 5.00000000e-01, 5.00000000e-01])"
      ]
     },
     "execution_count": 43,
     "metadata": {},
     "output_type": "execute_result"
    }
   ],
   "source": [
    "p3hat = np.dot(x, bp3)\n",
    "p3hat"
   ]
  },
  {
   "cell_type": "code",
   "execution_count": null,
   "id": "b5d892e0",
   "metadata": {},
   "outputs": [],
   "source": []
  }
 ],
 "metadata": {
  "kernelspec": {
   "display_name": "Python 3 (ipykernel)",
   "language": "python",
   "name": "python3"
  },
  "language_info": {
   "codemirror_mode": {
    "name": "ipython",
    "version": 3
   },
   "file_extension": ".py",
   "mimetype": "text/x-python",
   "name": "python",
   "nbconvert_exporter": "python",
   "pygments_lexer": "ipython3",
   "version": "3.10.5"
  }
 },
 "nbformat": 4,
 "nbformat_minor": 5
}
