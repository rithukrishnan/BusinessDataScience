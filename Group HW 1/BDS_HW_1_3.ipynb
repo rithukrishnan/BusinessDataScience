{
 "cells": [
  {
   "cell_type": "markdown",
   "id": "xhEHVZ1iOXtb",
   "metadata": {
    "id": "xhEHVZ1iOXtb"
   },
   "source": [
    "# Business Data Science\n",
    "## Home Work 1 - Question 3"
   ]
  },
  {
   "cell_type": "code",
   "execution_count": 1,
   "id": "K07UcIQwOXte",
   "metadata": {
    "executionInfo": {
     "elapsed": 6,
     "status": "ok",
     "timestamp": 1662072277670,
     "user": {
      "displayName": "Ishaan G Buch",
      "userId": "00868805639077113615"
     },
     "user_tz": 300
    },
    "id": "K07UcIQwOXte"
   },
   "outputs": [],
   "source": [
    "import numpy as np\n",
    "import random"
   ]
  },
  {
   "cell_type": "markdown",
   "id": "dRl_-EKhOXtg",
   "metadata": {
    "id": "dRl_-EKhOXtg"
   },
   "source": [
    "#### Define mean and cov from question prompt"
   ]
  },
  {
   "cell_type": "code",
   "execution_count": 2,
   "id": "FtPoJUcPOXti",
   "metadata": {
    "executionInfo": {
     "elapsed": 5,
     "status": "ok",
     "timestamp": 1662072277671,
     "user": {
      "displayName": "Ishaan G Buch",
      "userId": "00868805639077113615"
     },
     "user_tz": 300
    },
    "id": "FtPoJUcPOXti"
   },
   "outputs": [],
   "source": [
    "mean = [-5,5]\n",
    "cov = [[20,0.8], [0.8,30]]  # diagonal covariance"
   ]
  },
  {
   "cell_type": "markdown",
   "id": "Z5drvogUOXtj",
   "metadata": {
    "id": "Z5drvogUOXtj"
   },
   "source": [
    "#### Generate 2 arrays with 10,000 sample each"
   ]
  },
  {
   "cell_type": "code",
   "execution_count": 3,
   "id": "jtpdJdjnOXtk",
   "metadata": {
    "executionInfo": {
     "elapsed": 5,
     "status": "ok",
     "timestamp": 1662072277672,
     "user": {
      "displayName": "Ishaan G Buch",
      "userId": "00868805639077113615"
     },
     "user_tz": 300
    },
    "id": "jtpdJdjnOXtk"
   },
   "outputs": [],
   "source": [
    "x, y = np.random.multivariate_normal(mean, cov, 10000).T "
   ]
  },
  {
   "cell_type": "markdown",
   "id": "TXYFYwfvOXtl",
   "metadata": {
    "id": "TXYFYwfvOXtl"
   },
   "source": [
    "#### Calculate Mean and N of X and Y"
   ]
  },
  {
   "cell_type": "code",
   "execution_count": 4,
   "id": "QiTsr9tzOXtm",
   "metadata": {
    "executionInfo": {
     "elapsed": 4,
     "status": "ok",
     "timestamp": 1662072278198,
     "user": {
      "displayName": "Ishaan G Buch",
      "userId": "00868805639077113615"
     },
     "user_tz": 300
    },
    "id": "QiTsr9tzOXtm"
   },
   "outputs": [],
   "source": [
    "mean_x=sum(x)/len(x)\n",
    "n_x=len(x)"
   ]
  },
  {
   "cell_type": "code",
   "execution_count": 5,
   "id": "MTQRGwFdOXto",
   "metadata": {
    "executionInfo": {
     "elapsed": 3,
     "status": "ok",
     "timestamp": 1662072279010,
     "user": {
      "displayName": "Ishaan G Buch",
      "userId": "00868805639077113615"
     },
     "user_tz": 300
    },
    "id": "MTQRGwFdOXto"
   },
   "outputs": [],
   "source": [
    "mean_y=sum(y)/len(y)\n",
    "n_y=len(y)"
   ]
  },
  {
   "cell_type": "code",
   "execution_count": 6,
   "id": "5LXbFDExOXtp",
   "metadata": {
    "executionInfo": {
     "elapsed": 5,
     "status": "ok",
     "timestamp": 1662072279414,
     "user": {
      "displayName": "Ishaan G Buch",
      "userId": "00868805639077113615"
     },
     "user_tz": 300
    },
    "id": "5LXbFDExOXtp"
   },
   "outputs": [],
   "source": [
    "rMean=[mean_x,mean_y]"
   ]
  },
  {
   "cell_type": "markdown",
   "id": "Hpkf3-LNOXtr",
   "metadata": {
    "id": "Hpkf3-LNOXtr"
   },
   "source": [
    "**Calculate Covariance**"
   ]
  },
  {
   "cell_type": "code",
   "execution_count": 7,
   "id": "Fjz2l8DyOXtr",
   "metadata": {
    "colab": {
     "base_uri": "https://localhost:8080/"
    },
    "executionInfo": {
     "elapsed": 153,
     "status": "ok",
     "timestamp": 1662072293171,
     "user": {
      "displayName": "Ishaan G Buch",
      "userId": "00868805639077113615"
     },
     "user_tz": 300
    },
    "id": "Fjz2l8DyOXtr",
    "outputId": "e86023e5-e082-47e0-8c79-e3fce33ac61e"
   },
   "outputs": [
    {
     "name": "stdout",
     "output_type": "stream",
     "text": [
      "0.49450798553626774\n"
     ]
    }
   ],
   "source": [
    "covar = 0\n",
    "for i,j in zip(x,y):\n",
    "    covar += (i-mean_x)*(j-mean_y)\n",
    "covar = covar/(len(x)-1)\n",
    "print(covar)"
   ]
  },
  {
   "cell_type": "markdown",
   "id": "26V1DsvfOXts",
   "metadata": {
    "id": "26V1DsvfOXts"
   },
   "source": [
    "#### Calculate variance for X and Y"
   ]
  },
  {
   "cell_type": "code",
   "execution_count": 8,
   "id": "RGM4m___OXtt",
   "metadata": {
    "executionInfo": {
     "elapsed": 292,
     "status": "ok",
     "timestamp": 1662072295773,
     "user": {
      "displayName": "Ishaan G Buch",
      "userId": "00868805639077113615"
     },
     "user_tz": 300
    },
    "id": "RGM4m___OXtt"
   },
   "outputs": [],
   "source": [
    "samples=x\n",
    "summation = 0\n",
    "for i in samples:\n",
    "    summation = summation + ((i - mean_x)**2)\n",
    "# print(summation)\n",
    "var_x = (summation / (n_x-1))"
   ]
  },
  {
   "cell_type": "code",
   "execution_count": 9,
   "id": "fRfO4SB2OXtt",
   "metadata": {
    "executionInfo": {
     "elapsed": 237,
     "status": "ok",
     "timestamp": 1662072297214,
     "user": {
      "displayName": "Ishaan G Buch",
      "userId": "00868805639077113615"
     },
     "user_tz": 300
    },
    "id": "fRfO4SB2OXtt"
   },
   "outputs": [],
   "source": [
    "samples=y\n",
    "summation = 0\n",
    "for i in samples:\n",
    "    summation = summation + ((i - mean_y)**2)\n",
    "# print(summation)\n",
    "var_y = (summation / (n_x-1))"
   ]
  },
  {
   "cell_type": "markdown",
   "id": "fyMIWnVzOXtu",
   "metadata": {
    "id": "fyMIWnVzOXtu"
   },
   "source": [
    "#### Represent Covariance Matrix"
   ]
  },
  {
   "cell_type": "code",
   "execution_count": 10,
   "id": "VyzLGwtQOXtu",
   "metadata": {
    "executionInfo": {
     "elapsed": 141,
     "status": "ok",
     "timestamp": 1662072299183,
     "user": {
      "displayName": "Ishaan G Buch",
      "userId": "00868805639077113615"
     },
     "user_tz": 300
    },
    "id": "VyzLGwtQOXtu"
   },
   "outputs": [],
   "source": [
    "cov=[[covar,var_y],[var_x,covar]]"
   ]
  },
  {
   "cell_type": "markdown",
   "id": "MKpZ0rrHOXtw",
   "metadata": {
    "id": "MKpZ0rrHOXtw"
   },
   "source": [
    "  ### Result"
   ]
  },
  {
   "cell_type": "code",
   "execution_count": 11,
   "id": "uiy_xRseOXtw",
   "metadata": {
    "colab": {
     "base_uri": "https://localhost:8080/"
    },
    "executionInfo": {
     "elapsed": 344,
     "status": "ok",
     "timestamp": 1662072303116,
     "user": {
      "displayName": "Ishaan G Buch",
      "userId": "00868805639077113615"
     },
     "user_tz": 300
    },
    "id": "uiy_xRseOXtw",
    "outputId": "4c92bc8b-e90c-46f5-8fcc-4f8bdfdf04a4"
   },
   "outputs": [
    {
     "name": "stdout",
     "output_type": "stream",
     "text": [
      "Mean: [-4.98917519776858, 4.966252103617723]\n",
      "\n",
      "Covariance Matrix:\n"
     ]
    },
    {
     "data": {
      "text/plain": [
       "[[0.49450798553626774, 29.892701813373222],\n",
       " [20.318427689806548, 0.49450798553626774]]"
      ]
     },
     "execution_count": 11,
     "metadata": {},
     "output_type": "execute_result"
    }
   ],
   "source": [
    "print(\"Mean:\",rMean)\n",
    "print(\"\")\n",
    "print(\"Covariance Matrix:\")\n",
    "cov"
   ]
  },
  {
   "cell_type": "code",
   "execution_count": null,
   "id": "5xF5_gB0OqtU",
   "metadata": {
    "id": "5xF5_gB0OqtU"
   },
   "outputs": [],
   "source": []
  }
 ],
 "metadata": {
  "colab": {
   "provenance": []
  },
  "kernelspec": {
   "display_name": "Python 3 (ipykernel)",
   "language": "python",
   "name": "python3"
  },
  "language_info": {
   "codemirror_mode": {
    "name": "ipython",
    "version": 3
   },
   "file_extension": ".py",
   "mimetype": "text/x-python",
   "name": "python",
   "nbconvert_exporter": "python",
   "pygments_lexer": "ipython3",
   "version": "3.10.5"
  }
 },
 "nbformat": 4,
 "nbformat_minor": 5
}
