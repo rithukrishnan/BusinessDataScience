{
 "cells": [
  {
   "cell_type": "markdown",
   "id": "ae1da8b3",
   "metadata": {
    "id": "ae1da8b3"
   },
   "source": [
    "## Create 1000 samples from a Gaussian distribution with mean -10 and standard deviation 5.Create another 1000 samples from another independent Gaussian with mean 10 and standard deviation 5.\n",
    "\n",
    "## (a) Take the sum of these Gaussians by adding the two sets of 1000 points, point by point, and plot the histogram of the resulting 1000 points. What do you observe? \n",
    "\n",
    "## Deliverables: three histograms (two for each Gaussian, one for the sum), written response, code\n",
    "\n",
    "## (b) Estimate the mean and the variance of the sum.\n",
    "\n",
    "## Deliverables: written response, code"
   ]
  },
  {
   "cell_type": "code",
   "execution_count": 1,
   "id": "b054201f",
   "metadata": {
    "executionInfo": {
     "elapsed": 253,
     "status": "ok",
     "timestamp": 1662072234541,
     "user": {
      "displayName": "Ishaan G Buch",
      "userId": "00868805639077113615"
     },
     "user_tz": 300
    },
    "id": "b054201f"
   },
   "outputs": [],
   "source": [
    "import numpy as np\n",
    "from matplotlib import pyplot as plt\n",
    "from scipy.stats import norm"
   ]
  },
  {
   "cell_type": "markdown",
   "id": "c758fb6e",
   "metadata": {
    "id": "c758fb6e"
   },
   "source": [
    "### Generating the first 1000 samples with mean -10 and standard deviation 5"
   ]
  },
  {
   "cell_type": "code",
   "execution_count": 2,
   "id": "addc85e0",
   "metadata": {
    "executionInfo": {
     "elapsed": 10,
     "status": "ok",
     "timestamp": 1662072234542,
     "user": {
      "displayName": "Ishaan G Buch",
      "userId": "00868805639077113615"
     },
     "user_tz": 300
    },
    "id": "addc85e0"
   },
   "outputs": [],
   "source": [
    "mu1=-10\n",
    "std1=5\n",
    "list1=np.random.normal(loc=-10, scale=5, size=1000)"
   ]
  },
  {
   "cell_type": "code",
   "execution_count": 3,
   "id": "39e0bd30",
   "metadata": {
    "colab": {
     "base_uri": "https://localhost:8080/"
    },
    "executionInfo": {
     "elapsed": 9,
     "status": "ok",
     "timestamp": 1662072234543,
     "user": {
      "displayName": "Ishaan G Buch",
      "userId": "00868805639077113615"
     },
     "user_tz": 300
    },
    "id": "39e0bd30",
    "outputId": "e565f345-659d-4d32-d1a9-2259ec6c3981"
   },
   "outputs": [
    {
     "name": "stdout",
     "output_type": "stream",
     "text": [
      "-9.729008029417804\n",
      "5.056105944193056\n"
     ]
    }
   ],
   "source": [
    "mean1=list1.mean()\n",
    "sd1=np.std(list1)\n",
    "print(mean1)\n",
    "print(sd1)"
   ]
  },
  {
   "cell_type": "markdown",
   "id": "d0eaa3de",
   "metadata": {
    "id": "d0eaa3de"
   },
   "source": [
    "### The histogram for list1"
   ]
  },
  {
   "cell_type": "code",
   "execution_count": 4,
   "id": "370445b5",
   "metadata": {
    "colab": {
     "base_uri": "https://localhost:8080/",
     "height": 281
    },
    "executionInfo": {
     "elapsed": 682,
     "status": "ok",
     "timestamp": 1662072237832,
     "user": {
      "displayName": "Ishaan G Buch",
      "userId": "00868805639077113615"
     },
     "user_tz": 300
    },
    "id": "370445b5",
    "outputId": "1b467f17-0083-4b4d-aa70-a513980ffa12"
   },
   "outputs": [
    {
     "data": {
      "image/png": "[encoded data removed]",
      "text/plain": [
       "<Figure size 432x288 with 1 Axes>"
      ]
     },
     "metadata": {
      "needs_background": "light"
     },
     "output_type": "display_data"
    }
   ],
   "source": [
    "# Plot the histogram.\n",
    "plt.hist(list1, bins=25, density=True, alpha=0.6, color='b')\n",
    "\n",
    "# Plot the PDF.\n",
    "xmin, xmax = plt.xlim()\n",
    "x = np.linspace(xmin, xmax, 1000)\n",
    "p = norm.pdf(x, mu1, sd1)\n",
    "plt.plot(x, p, 'k', linewidth=2)\n",
    "title = \"Fit results: mu = %.2f,  std = %.2f\" % (mu1,std1)\n",
    "plt.title(title)\n",
    "\n",
    "plt.show()"
   ]
  },
  {
   "cell_type": "markdown",
   "id": "02f79f63",
   "metadata": {
    "id": "02f79f63"
   },
   "source": [
    "### Generating the first 1000 samples with mean 10 and standard deviation 5"
   ]
  },
  {
   "cell_type": "code",
   "execution_count": 5,
   "id": "28ec9fe5",
   "metadata": {
    "executionInfo": {
     "elapsed": 238,
     "status": "ok",
     "timestamp": 1662072240535,
     "user": {
      "displayName": "Ishaan G Buch",
      "userId": "00868805639077113615"
     },
     "user_tz": 300
    },
    "id": "28ec9fe5"
   },
   "outputs": [],
   "source": [
    "mu2=10\n",
    "std2=5\n",
    "list2=np.random.normal(loc=10, scale=5, size=1000)"
   ]
  },
  {
   "cell_type": "code",
   "execution_count": 6,
   "id": "ded8401a",
   "metadata": {
    "colab": {
     "base_uri": "https://localhost:8080/"
    },
    "executionInfo": {
     "elapsed": 5,
     "status": "ok",
     "timestamp": 1662072240713,
     "user": {
      "displayName": "Ishaan G Buch",
      "userId": "00868805639077113615"
     },
     "user_tz": 300
    },
    "id": "ded8401a",
    "outputId": "21b77b85-b30f-4cbf-f3bc-68ba655ec9d2"
   },
   "outputs": [
    {
     "name": "stdout",
     "output_type": "stream",
     "text": [
      "-9.729008029417804\n",
      "5.06234180651589\n"
     ]
    }
   ],
   "source": [
    "mean2=list1.mean()\n",
    "sd2=np.std(list2)\n",
    "print(mean2)\n",
    "print(sd2)"
   ]
  },
  {
   "cell_type": "markdown",
   "id": "014410a9",
   "metadata": {
    "id": "014410a9"
   },
   "source": [
    "### The histogram for list2"
   ]
  },
  {
   "cell_type": "code",
   "execution_count": 7,
   "id": "ab798810",
   "metadata": {
    "colab": {
     "base_uri": "https://localhost:8080/",
     "height": 281
    },
    "executionInfo": {
     "elapsed": 358,
     "status": "ok",
     "timestamp": 1662072243043,
     "user": {
      "displayName": "Ishaan G Buch",
      "userId": "00868805639077113615"
     },
     "user_tz": 300
    },
    "id": "ab798810",
    "outputId": "0e9b757a-4cbe-4cf8-cc80-65fd85cc0e84"
   },
   "outputs": [
    {
     "data": {
      "image/png": "[encoded data removed]",
      "text/plain": [
       "<Figure size 432x288 with 1 Axes>"
      ]
     },
     "metadata": {
      "needs_background": "light"
     },
     "output_type": "display_data"
    }
   ],
   "source": [
    "# Plot the histogram.\n",
    "plt.hist(list2, bins=25, density=True, alpha=0.6, color='b')\n",
    "\n",
    "# Plot the PDF.\n",
    "xmin, xmax = plt.xlim()\n",
    "x = np.linspace(xmin, xmax, 1000)\n",
    "p = norm.pdf(x, mu2, sd2)\n",
    "plt.plot(x, p, 'k', linewidth=2)\n",
    "title = \"Fit results: mu = %.2f,  std = %.2f\" % (mu2, std2)\n",
    "plt.title(title)\n",
    "\n",
    "plt.show()"
   ]
  },
  {
   "cell_type": "markdown",
   "id": "f7b54eac",
   "metadata": {
    "id": "f7b54eac"
   },
   "source": [
    "## Making a third of the sum of the previous two lists"
   ]
  },
  {
   "cell_type": "code",
   "execution_count": 8,
   "id": "26b58c5e",
   "metadata": {
    "executionInfo": {
     "elapsed": 130,
     "status": "ok",
     "timestamp": 1662072246108,
     "user": {
      "displayName": "Ishaan G Buch",
      "userId": "00868805639077113615"
     },
     "user_tz": 300
    },
    "id": "26b58c5e"
   },
   "outputs": [],
   "source": [
    "list3=list1+list2"
   ]
  },
  {
   "cell_type": "code",
   "execution_count": 9,
   "id": "0a122e85",
   "metadata": {
    "colab": {
     "base_uri": "https://localhost:8080/"
    },
    "executionInfo": {
     "elapsed": 4,
     "status": "ok",
     "timestamp": 1662072246713,
     "user": {
      "displayName": "Ishaan G Buch",
      "userId": "00868805639077113615"
     },
     "user_tz": 300
    },
    "id": "0a122e85",
    "outputId": "f1e10b7a-4250-47cb-e40f-cdbc642f7cfd"
   },
   "outputs": [
    {
     "name": "stdout",
     "output_type": "stream",
     "text": [
      "-0.17972847046537196\n",
      "7.035644808019706\n"
     ]
    }
   ],
   "source": [
    "mean3=list3.mean()\n",
    "sd3=np.std(list3)\n",
    "print(mean3)\n",
    "print(sd3)"
   ]
  },
  {
   "cell_type": "markdown",
   "id": "67a184d0",
   "metadata": {
    "id": "67a184d0"
   },
   "source": [
    "### The histogram for list3"
   ]
  },
  {
   "cell_type": "code",
   "execution_count": 10,
   "id": "3275a122",
   "metadata": {
    "colab": {
     "base_uri": "https://localhost:8080/",
     "height": 281
    },
    "executionInfo": {
     "elapsed": 171,
     "status": "ok",
     "timestamp": 1662072249296,
     "user": {
      "displayName": "Ishaan G Buch",
      "userId": "00868805639077113615"
     },
     "user_tz": 300
    },
    "id": "3275a122",
    "outputId": "e6135be3-9a8b-441a-bb1f-27532207ab75"
   },
   "outputs": [
    {
     "data": {
      "image/png": "[encoded data removed]",
      "text/plain": [
       "<Figure size 432x288 with 1 Axes>"
      ]
     },
     "metadata": {
      "needs_background": "light"
     },
     "output_type": "display_data"
    }
   ],
   "source": [
    "# Plot the histogram.\n",
    "plt.hist(list3, bins=25, density=True, alpha=0.6, color='b')\n",
    "\n",
    "# Plot the PDF.\n",
    "xmin, xmax = plt.xlim()\n",
    "x = np.linspace(xmin, xmax, 1000)\n",
    "p = norm.pdf(x, mean3, sd3)\n",
    "plt.plot(x, p, 'k', linewidth=2)\n",
    "title = \"Fit results: mu = %.2f,  std = %.2f\" % (mean3,sd3)\n",
    "plt.title(title)\n",
    "\n",
    "plt.show()"
   ]
  },
  {
   "cell_type": "markdown",
   "id": "f95f0c22",
   "metadata": {
    "id": "f95f0c22"
   },
   "source": [
    "List1 has mean -10 and list 2 has mean -10, the sum of both the lists have the mean close to 0. "
   ]
  },
  {
   "cell_type": "markdown",
   "id": "c4c51bdb",
   "metadata": {
    "id": "c4c51bdb"
   },
   "source": [
    "# Question 4"
   ]
  },
  {
   "cell_type": "code",
   "execution_count": null,
   "id": "728c43b0",
   "metadata": {
    "id": "728c43b0"
   },
   "outputs": [],
   "source": [
    "mu=[-5,5]\n",
    "std=[[20,.8],[.8,30]]\n",
    "q4=np.random.multivariate_normal(mu,std,size=10000)"
   ]
  },
  {
   "cell_type": "code",
   "execution_count": null,
   "id": "72b37b9b",
   "metadata": {
    "id": "72b37b9b",
    "outputId": "392ee5f5-a0df-4982-ebd0-e13b247960fe"
   },
   "outputs": [
    {
     "data": {
      "text/plain": [
       "array([[ -9.17251933,  -3.57335619],\n",
       "       [-11.62501913,   2.79586532],\n",
       "       [ -7.72774592,   7.96244498],\n",
       "       ...,\n",
       "       [  2.06868616,   9.58667967],\n",
       "       [ -5.66586248,   1.6815761 ],\n",
       "       [ -7.00094949,  -1.34927812]])"
      ]
     },
     "execution_count": 25,
     "metadata": {},
     "output_type": "execute_result"
    }
   ],
   "source": []
  },
  {
   "cell_type": "code",
   "execution_count": null,
   "id": "2c686e23",
   "metadata": {
    "id": "2c686e23"
   },
   "outputs": [],
   "source": [
    "\n",
    "    "
   ]
  }
 ],
 "metadata": {
  "colab": {
   "provenance": []
  },
  "kernelspec": {
   "display_name": "Python 3 (ipykernel)",
   "language": "python",
   "name": "python3"
  },
  "language_info": {
   "codemirror_mode": {
    "name": "ipython",
    "version": 3
   },
   "file_extension": ".py",
   "mimetype": "text/x-python",
   "name": "python",
   "nbconvert_exporter": "python",
   "pygments_lexer": "ipython3",
   "version": "3.10.5"
  }
 },
 "nbformat": 4,
 "nbformat_minor": 5
}
