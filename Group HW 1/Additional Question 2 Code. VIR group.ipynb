{
 "cells": [
  {
   "cell_type": "code",
   "execution_count": 1,
   "id": "88b9ebd2",
   "metadata": {
    "colab": {
     "base_uri": "https://localhost:8080/"
    },
    "executionInfo": {
     "elapsed": 8,
     "status": "ok",
     "timestamp": 1662184066326,
     "user": {
      "displayName": "Ishaan G Buch",
      "userId": "00868805639077113615"
     },
     "user_tz": 300
    },
    "id": "88b9ebd2",
    "outputId": "5077221b-b3e8-41a7-afd4-96899fb2a0df"
   },
   "outputs": [
    {
     "name": "stdout",
     "output_type": "stream",
     "text": [
      "0.0003284517931420376\n"
     ]
    }
   ],
   "source": [
    "#Function to find the factorial of number.\n",
    "def factorial(n):\n",
    "    fact = 1\n",
    "    for i in range(1, n + 1):\n",
    "        fact = fact * i\n",
    "    return fact\n",
    "\n",
    "#Here we have already fixed n value in nCr as 100 as per the problem. So returning the factorial(100)/(factorial r * factorial(100-r))\n",
    "def ncr(n):\n",
    "    return (factorial(100) / (factorial(n) * factorial(100 - n)))\n",
    "\n",
    "#We have defined the probability function here as nCr*(p^r)*(q^(n-r)). We have called ncr function here to find the value of nCr, p is 2/3 here and q is 1-(2/3) which is 1/3\n",
    "def probability(n):\n",
    "    return (ncr(n) * ((2 / 3) ** n) * ((1 / 3) ** (100 - n)))\n",
    "\n",
    "#Function to find the final probability\n",
    "def probless(n):\n",
    "    if n >= 0:\n",
    "        return (probability(n) + probability(n - 1))\n",
    "\n",
    "\n",
    "print(probless(50))"
   ]
  },
  {
   "cell_type": "code",
   "execution_count": null,
   "id": "496f8b43",
   "metadata": {
    "id": "496f8b43"
   },
   "outputs": [],
   "source": []
  }
 ],
 "metadata": {
  "colab": {
   "provenance": []
  },
  "kernelspec": {
   "display_name": "Python 3 (ipykernel)",
   "language": "python",
   "name": "python3"
  },
  "language_info": {
   "codemirror_mode": {
    "name": "ipython",
    "version": 3
   },
   "file_extension": ".py",
   "mimetype": "text/x-python",
   "name": "python",
   "nbconvert_exporter": "python",
   "pygments_lexer": "ipython3",
   "version": "3.10.5"
  }
 },
 "nbformat": 4,
 "nbformat_minor": 5
}
