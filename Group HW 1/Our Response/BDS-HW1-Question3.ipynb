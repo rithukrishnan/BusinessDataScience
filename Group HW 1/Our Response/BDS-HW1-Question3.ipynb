{
 "cells": [
  {
   "cell_type": "markdown",
   "id": "xhEHVZ1iOXtb",
   "metadata": {
    "id": "xhEHVZ1iOXtb"
   },
   "source": [
    "# Question 3"
   ]
  },
  {
   "cell_type": "markdown",
   "id": "513e8b74",
   "metadata": {
    "executionInfo": {
     "elapsed": 6,
     "status": "ok",
     "timestamp": 1662072277670,
     "user": {
      "displayName": "Ishaan G Buch",
      "userId": "00868805639077113615"
     },
     "user_tz": 300
    },
    "id": "K07UcIQwOXte"
   },
   "source": [
    "For generating samples we can use multivariate_normal method from numpy\n",
    "\n",
    "From https://numpy.org/doc/stable/reference/random/generated/numpy.random.multivariate_normal.html:\n",
    "\n",
    "We can pick the two dimensional mean as given to us : (-5,5)\n",
    "\n",
    "and the diagonal covariance as given to us : (20,0.8) and (0.8,30)"
   ]
  },
  {
   "cell_type": "code",
   "execution_count": 1,
   "id": "FtPoJUcPOXti",
   "metadata": {
    "executionInfo": {
     "elapsed": 5,
     "status": "ok",
     "timestamp": 1662072277671,
     "user": {
      "displayName": "Ishaan G Buch",
      "userId": "00868805639077113615"
     },
     "user_tz": 300
    },
    "id": "FtPoJUcPOXti"
   },
   "outputs": [],
   "source": [
    "import numpy as np\n",
    "import random\n",
    "\n",
    "#defining mean and cov as stated above\n",
    "mean = [-5,5]\n",
    "cov = [[20,0.8], [0.8,30]]\n",
    "\n",
    "\n",
    "#generating two arrays using multivariate_normal()\n",
    "x, y = np.random.multivariate_normal(mean, cov, 10000).T "
   ]
  },
  {
   "cell_type": "markdown",
   "id": "TXYFYwfvOXtl",
   "metadata": {
    "id": "TXYFYwfvOXtl"
   },
   "source": [
    "For estimating Mean and covariance matrix we can use sum function on x and y arrays and divide by length of x and y respectively to calculate meanOfX and meanOfY "
   ]
  },
  {
   "cell_type": "code",
   "execution_count": 2,
   "id": "QiTsr9tzOXtm",
   "metadata": {
    "executionInfo": {
     "elapsed": 4,
     "status": "ok",
     "timestamp": 1662072278198,
     "user": {
      "displayName": "Ishaan G Buch",
      "userId": "00868805639077113615"
     },
     "user_tz": 300
    },
    "id": "QiTsr9tzOXtm"
   },
   "outputs": [
    {
     "name": "stdout",
     "output_type": "stream",
     "text": [
      "-5.000130522937963\n"
     ]
    }
   ],
   "source": [
    "lenX=len(x)\n",
    "meanOfX=sum(x)/lenX\n",
    "print(meanOfX)"
   ]
  },
  {
   "cell_type": "code",
   "execution_count": 3,
   "id": "MTQRGwFdOXto",
   "metadata": {
    "executionInfo": {
     "elapsed": 3,
     "status": "ok",
     "timestamp": 1662072279010,
     "user": {
      "displayName": "Ishaan G Buch",
      "userId": "00868805639077113615"
     },
     "user_tz": 300
    },
    "id": "MTQRGwFdOXto"
   },
   "outputs": [
    {
     "name": "stdout",
     "output_type": "stream",
     "text": [
      "4.936789172102326\n"
     ]
    }
   ],
   "source": [
    "lenY=len(y)\n",
    "meanOfY=sum(y)/lenY\n",
    "print(meanOfY)"
   ]
  },
  {
   "cell_type": "markdown",
   "id": "Hpkf3-LNOXtr",
   "metadata": {
    "id": "Hpkf3-LNOXtr"
   },
   "source": [
    "Following the formula for sample covariance:\n",
    "Σ(Xi – μ)(Yj – ν) / (n-1) \n",
    "\n",
    "We can loop through x and y and calculate their sum of difference from mean by keeping a counter and then dividing by number of samples (10000) subtracted by 1 "
   ]
  },
  {
   "cell_type": "code",
   "execution_count": 4,
   "id": "Fjz2l8DyOXtr",
   "metadata": {
    "colab": {
     "base_uri": "https://localhost:8080/"
    },
    "executionInfo": {
     "elapsed": 153,
     "status": "ok",
     "timestamp": 1662072293171,
     "user": {
      "displayName": "Ishaan G Buch",
      "userId": "00868805639077113615"
     },
     "user_tz": 300
    },
    "id": "Fjz2l8DyOXtr",
    "outputId": "e86023e5-e082-47e0-8c79-e3fce33ac61e"
   },
   "outputs": [
    {
     "name": "stdout",
     "output_type": "stream",
     "text": [
      "0.9234550331833459\n"
     ]
    }
   ],
   "source": [
    "cov = 0\n",
    "for i,j in zip(x,y):\n",
    "    cov += (i-meanOfX)*(j-meanOfY)\n",
    "cov = cov/(10000-1)\n",
    "print(cov)"
   ]
  },
  {
   "cell_type": "markdown",
   "id": "26V1DsvfOXts",
   "metadata": {
    "id": "26V1DsvfOXts"
   },
   "source": [
    "Calculating variance of X and Y:"
   ]
  },
  {
   "cell_type": "code",
   "execution_count": 5,
   "id": "RGM4m___OXtt",
   "metadata": {
    "executionInfo": {
     "elapsed": 292,
     "status": "ok",
     "timestamp": 1662072295773,
     "user": {
      "displayName": "Ishaan G Buch",
      "userId": "00868805639077113615"
     },
     "user_tz": 300
    },
    "id": "RGM4m___OXtt"
   },
   "outputs": [
    {
     "name": "stdout",
     "output_type": "stream",
     "text": [
      "19.964933497493085\n"
     ]
    }
   ],
   "source": [
    "samplesOfX=x\n",
    "counter = 0\n",
    "for i in samplesOfX:\n",
    "    counter = counter + ((i - meanOfX)**2)\n",
    "varX = (counter / (10000-1))\n",
    "print(varX)"
   ]
  },
  {
   "cell_type": "code",
   "execution_count": 6,
   "id": "fRfO4SB2OXtt",
   "metadata": {
    "executionInfo": {
     "elapsed": 237,
     "status": "ok",
     "timestamp": 1662072297214,
     "user": {
      "displayName": "Ishaan G Buch",
      "userId": "00868805639077113615"
     },
     "user_tz": 300
    },
    "id": "fRfO4SB2OXtt"
   },
   "outputs": [
    {
     "name": "stdout",
     "output_type": "stream",
     "text": [
      "29.630872010513386\n"
     ]
    }
   ],
   "source": [
    "samplesOfY=y\n",
    "counter = 0\n",
    "for i in samplesOfY:\n",
    "    counter = counter + ((i - meanOfY)**2)\n",
    "varY = (counter / (10000-1))\n",
    "print(varY)"
   ]
  },
  {
   "cell_type": "markdown",
   "id": "fyMIWnVzOXtu",
   "metadata": {
    "id": "fyMIWnVzOXtu"
   },
   "source": [
    "Creating the Covariance Matrix:"
   ]
  },
  {
   "cell_type": "code",
   "execution_count": 7,
   "id": "VyzLGwtQOXtu",
   "metadata": {
    "executionInfo": {
     "elapsed": 141,
     "status": "ok",
     "timestamp": 1662072299183,
     "user": {
      "displayName": "Ishaan G Buch",
      "userId": "00868805639077113615"
     },
     "user_tz": 300
    },
    "id": "VyzLGwtQOXtu"
   },
   "outputs": [
    {
     "name": "stdout",
     "output_type": "stream",
     "text": [
      "[[0.9234550331833459, 29.630872010513386], [19.964933497493085, 0.9234550331833459]]\n"
     ]
    }
   ],
   "source": [
    "cov=[[cov,varY],[varX,cov]]\n",
    "print(cov)"
   ]
  },
  {
   "cell_type": "markdown",
   "id": "MKpZ0rrHOXtw",
   "metadata": {
    "id": "MKpZ0rrHOXtw"
   },
   "source": [
    "## Printing the Mean and Covariance Matrix"
   ]
  },
  {
   "cell_type": "code",
   "execution_count": 9,
   "id": "uiy_xRseOXtw",
   "metadata": {
    "colab": {
     "base_uri": "https://localhost:8080/"
    },
    "executionInfo": {
     "elapsed": 344,
     "status": "ok",
     "timestamp": 1662072303116,
     "user": {
      "displayName": "Ishaan G Buch",
      "userId": "00868805639077113615"
     },
     "user_tz": 300
    },
    "id": "uiy_xRseOXtw",
    "outputId": "4c92bc8b-e90c-46f5-8fcc-4f8bdfdf04a4"
   },
   "outputs": [
    {
     "name": "stdout",
     "output_type": "stream",
     "text": [
      "Here is the Mean of bivariate data: [-5.000130522937963, 4.936789172102326]\n",
      "Here is the Covariance Matrix:\n"
     ]
    },
    {
     "data": {
      "text/plain": [
       "[[0.9234550331833459, 29.630872010513386],\n",
       " [19.964933497493085, 0.9234550331833459]]"
      ]
     },
     "execution_count": 9,
     "metadata": {},
     "output_type": "execute_result"
    }
   ],
   "source": [
    "mean2d=[meanOfX,meanOfY]\n",
    "\n",
    "print(\"Here is the Mean of bivariate data:\",mean2d)\n",
    "print(\"Here is the Covariance Matrix:\")\n",
    "cov"
   ]
  },
  {
   "cell_type": "code",
   "execution_count": null,
   "id": "5xF5_gB0OqtU",
   "metadata": {
    "id": "5xF5_gB0OqtU"
   },
   "outputs": [],
   "source": []
  }
 ],
 "metadata": {
  "colab": {
   "provenance": []
  },
  "kernelspec": {
   "display_name": "Python 3 (ipykernel)",
   "language": "python",
   "name": "python3"
  },
  "language_info": {
   "codemirror_mode": {
    "name": "ipython",
    "version": 3
   },
   "file_extension": ".py",
   "mimetype": "text/x-python",
   "name": "python",
   "nbconvert_exporter": "python",
   "pygments_lexer": "ipython3",
   "version": "3.9.13"
  }
 },
 "nbformat": 4,
 "nbformat_minor": 5
}
