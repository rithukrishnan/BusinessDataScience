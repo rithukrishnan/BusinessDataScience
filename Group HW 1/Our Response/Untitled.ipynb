{
 "cells": [
  {
   "cell_type": "code",
   "execution_count": 1,
   "id": "7afe46b0",
   "metadata": {},
   "outputs": [
    {
     "data": {
      "text/plain": [
       "1"
      ]
     },
     "execution_count": 1,
     "metadata": {},
     "output_type": "execute_result"
    }
   ],
   "source": [
    "import numpy as np\n",
    "\n",
    "def ncr(n, r):\n",
    "    r = min(r, n-r)\n",
    "    numer = reduce(op.mul, range(n, n-r, -1), 1)\n",
    "    denom = reduce(op.mul, range(1, r+1), 1)\n",
    "    return numer\n",
    "\n",
    "def ncr(n):\n",
    "    return (np.math.factorial(5)(100) / (factorial(n) * factorial(100 - n)))\n",
    "\n",
    "#We have defined the probability function here as nCr*(p^r)*(q^(n-r)). We have called ncr function here to find the value of nCr, p is 2/3 here and q is 1-(2/3) which is 1/3\n",
    "def probability(n):\n",
    "    return (ncr(n) * ((2 / 3) ** n) * ((1 / 3) ** (100 - n)))\n",
    "\n",
    "#Function to find the final probability\n",
    "def probless(n):\n",
    "    if n >= 0:\n",
    "        return (probability(n) + probability(n - 1))"
   ]
  },
  {
   "cell_type": "code",
   "execution_count": null,
   "id": "dec268e8",
   "metadata": {},
   "outputs": [],
   "source": []
  }
 ],
 "metadata": {
  "kernelspec": {
   "display_name": "Python 3 (ipykernel)",
   "language": "python",
   "name": "python3"
  },
  "language_info": {
   "codemirror_mode": {
    "name": "ipython",
    "version": 3
   },
   "file_extension": ".py",
   "mimetype": "text/x-python",
   "name": "python",
   "nbconvert_exporter": "python",
   "pygments_lexer": "ipython3",
   "version": "3.10.5"
  }
 },
 "nbformat": 4,
 "nbformat_minor": 5
}
