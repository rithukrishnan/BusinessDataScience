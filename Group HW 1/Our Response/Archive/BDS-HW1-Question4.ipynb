{
 "cells": [
  {
   "cell_type": "markdown",
   "id": "8c639905",
   "metadata": {},
   "source": [
    "# Question 4"
   ]
  },
  {
   "cell_type": "code",
   "execution_count": 3,
   "id": "9e8bc44c",
   "metadata": {},
   "outputs": [
    {
     "data": {
      "text/plain": [
       "'int64'"
      ]
     },
     "execution_count": 3,
     "metadata": {},
     "output_type": "execute_result"
    }
   ],
   "source": [
    "import pandas as pd\n",
    "import numpy as np\n",
    "import matplotlib.pyplot as plt\n",
    "\n",
    "df=pd.read_csv('PatientData.csv', sep = ',')\n",
    "x = 1\n",
    "for col in df.columns:\n",
    "  name = 'Column '+str(x)\n",
    "  df = df.rename(columns={col:name})\n",
    "  x = x+1\n",
    "\n",
    "df[df.columns[13:]]\n",
    "df['Column 1'].dtype.name"
   ]
  },
  {
   "cell_type": "markdown",
   "id": "456ad28a",
   "metadata": {},
   "source": [
    "## Answers to Question 4 part a and c"
   ]
  },
  {
   "cell_type": "code",
   "execution_count": 4,
   "id": "3f079d22",
   "metadata": {},
   "outputs": [
    {
     "name": "stdout",
     "output_type": "stream",
     "text": [
      "Part a: number of patients:  452\n",
      "Part a: number of features:  279\n",
      "Part c: Are there any NaN values?(True if ? were replaced with NaN):  True\n",
      "part c: replace NaN with average of column: \n"
     ]
    },
    {
     "name": "stderr",
     "output_type": "stream",
     "text": [
      "/var/folders/xk/szxzvgq138ndv5c88q9xfh1m0000gn/T/ipykernel_23145/2634372972.py:12: FutureWarning: Dropping of nuisance columns in DataFrame reductions (with 'numeric_only=None') is deprecated; in a future version this will raise TypeError.  Select only valid columns before calling the reduction.\n",
      "  df.fillna(df.mean())\n"
     ]
    },
    {
     "data": {
      "text/html": [
       "<div>\n",
       "<style scoped>\n",
       "    .dataframe tbody tr th:only-of-type {\n",
       "        vertical-align: middle;\n",
       "    }\n",
       "\n",
       "    .dataframe tbody tr th {\n",
       "        vertical-align: top;\n",
       "    }\n",
       "\n",
       "    .dataframe thead th {\n",
       "        text-align: right;\n",
       "    }\n",
       "</style>\n",
       "<table border=\"1\" class=\"dataframe\">\n",
       "  <thead>\n",
       "    <tr style=\"text-align: right;\">\n",
       "      <th></th>\n",
       "      <th>Column 1</th>\n",
       "      <th>Column 2</th>\n",
       "      <th>Column 3</th>\n",
       "      <th>Column 4</th>\n",
       "      <th>Column 5</th>\n",
       "      <th>Column 6</th>\n",
       "      <th>Column 7</th>\n",
       "      <th>Column 8</th>\n",
       "      <th>Column 9</th>\n",
       "      <th>Column 10</th>\n",
       "      <th>...</th>\n",
       "      <th>Column 271</th>\n",
       "      <th>Column 272</th>\n",
       "      <th>Column 273</th>\n",
       "      <th>Column 274</th>\n",
       "      <th>Column 275</th>\n",
       "      <th>Column 276</th>\n",
       "      <th>Column 277</th>\n",
       "      <th>Column 278</th>\n",
       "      <th>Column 279</th>\n",
       "      <th>Column 280</th>\n",
       "    </tr>\n",
       "  </thead>\n",
       "  <tbody>\n",
       "    <tr>\n",
       "      <th>0</th>\n",
       "      <td>56</td>\n",
       "      <td>1</td>\n",
       "      <td>165</td>\n",
       "      <td>64</td>\n",
       "      <td>81</td>\n",
       "      <td>174</td>\n",
       "      <td>401</td>\n",
       "      <td>149</td>\n",
       "      <td>39</td>\n",
       "      <td>25</td>\n",
       "      <td>...</td>\n",
       "      <td>0.0</td>\n",
       "      <td>8.5</td>\n",
       "      <td>0.0</td>\n",
       "      <td>0.0</td>\n",
       "      <td>0.0</td>\n",
       "      <td>0.2</td>\n",
       "      <td>2.1</td>\n",
       "      <td>20.4</td>\n",
       "      <td>38.8</td>\n",
       "      <td>6</td>\n",
       "    </tr>\n",
       "    <tr>\n",
       "      <th>1</th>\n",
       "      <td>54</td>\n",
       "      <td>0</td>\n",
       "      <td>172</td>\n",
       "      <td>95</td>\n",
       "      <td>138</td>\n",
       "      <td>163</td>\n",
       "      <td>386</td>\n",
       "      <td>185</td>\n",
       "      <td>102</td>\n",
       "      <td>96</td>\n",
       "      <td>...</td>\n",
       "      <td>0.0</td>\n",
       "      <td>9.5</td>\n",
       "      <td>-2.4</td>\n",
       "      <td>0.0</td>\n",
       "      <td>0.0</td>\n",
       "      <td>0.3</td>\n",
       "      <td>3.4</td>\n",
       "      <td>12.3</td>\n",
       "      <td>49.0</td>\n",
       "      <td>10</td>\n",
       "    </tr>\n",
       "    <tr>\n",
       "      <th>2</th>\n",
       "      <td>55</td>\n",
       "      <td>0</td>\n",
       "      <td>175</td>\n",
       "      <td>94</td>\n",
       "      <td>100</td>\n",
       "      <td>202</td>\n",
       "      <td>380</td>\n",
       "      <td>179</td>\n",
       "      <td>143</td>\n",
       "      <td>28</td>\n",
       "      <td>...</td>\n",
       "      <td>0.0</td>\n",
       "      <td>12.2</td>\n",
       "      <td>-2.2</td>\n",
       "      <td>0.0</td>\n",
       "      <td>0.0</td>\n",
       "      <td>0.4</td>\n",
       "      <td>2.6</td>\n",
       "      <td>34.6</td>\n",
       "      <td>61.6</td>\n",
       "      <td>1</td>\n",
       "    </tr>\n",
       "    <tr>\n",
       "      <th>3</th>\n",
       "      <td>75</td>\n",
       "      <td>0</td>\n",
       "      <td>190</td>\n",
       "      <td>80</td>\n",
       "      <td>88</td>\n",
       "      <td>181</td>\n",
       "      <td>360</td>\n",
       "      <td>177</td>\n",
       "      <td>103</td>\n",
       "      <td>-16</td>\n",
       "      <td>...</td>\n",
       "      <td>0.0</td>\n",
       "      <td>13.1</td>\n",
       "      <td>-3.6</td>\n",
       "      <td>0.0</td>\n",
       "      <td>0.0</td>\n",
       "      <td>-0.1</td>\n",
       "      <td>3.9</td>\n",
       "      <td>25.4</td>\n",
       "      <td>62.8</td>\n",
       "      <td>7</td>\n",
       "    </tr>\n",
       "    <tr>\n",
       "      <th>4</th>\n",
       "      <td>13</td>\n",
       "      <td>0</td>\n",
       "      <td>169</td>\n",
       "      <td>51</td>\n",
       "      <td>100</td>\n",
       "      <td>167</td>\n",
       "      <td>321</td>\n",
       "      <td>174</td>\n",
       "      <td>91</td>\n",
       "      <td>107</td>\n",
       "      <td>...</td>\n",
       "      <td>-0.6</td>\n",
       "      <td>12.2</td>\n",
       "      <td>-2.8</td>\n",
       "      <td>0.0</td>\n",
       "      <td>0.0</td>\n",
       "      <td>0.9</td>\n",
       "      <td>2.2</td>\n",
       "      <td>13.5</td>\n",
       "      <td>31.1</td>\n",
       "      <td>14</td>\n",
       "    </tr>\n",
       "    <tr>\n",
       "      <th>...</th>\n",
       "      <td>...</td>\n",
       "      <td>...</td>\n",
       "      <td>...</td>\n",
       "      <td>...</td>\n",
       "      <td>...</td>\n",
       "      <td>...</td>\n",
       "      <td>...</td>\n",
       "      <td>...</td>\n",
       "      <td>...</td>\n",
       "      <td>...</td>\n",
       "      <td>...</td>\n",
       "      <td>...</td>\n",
       "      <td>...</td>\n",
       "      <td>...</td>\n",
       "      <td>...</td>\n",
       "      <td>...</td>\n",
       "      <td>...</td>\n",
       "      <td>...</td>\n",
       "      <td>...</td>\n",
       "      <td>...</td>\n",
       "      <td>...</td>\n",
       "    </tr>\n",
       "    <tr>\n",
       "      <th>446</th>\n",
       "      <td>53</td>\n",
       "      <td>1</td>\n",
       "      <td>160</td>\n",
       "      <td>70</td>\n",
       "      <td>80</td>\n",
       "      <td>199</td>\n",
       "      <td>382</td>\n",
       "      <td>154</td>\n",
       "      <td>117</td>\n",
       "      <td>-37</td>\n",
       "      <td>...</td>\n",
       "      <td>0.0</td>\n",
       "      <td>4.3</td>\n",
       "      <td>-5.0</td>\n",
       "      <td>0.0</td>\n",
       "      <td>0.0</td>\n",
       "      <td>0.7</td>\n",
       "      <td>0.6</td>\n",
       "      <td>-4.4</td>\n",
       "      <td>-0.5</td>\n",
       "      <td>1</td>\n",
       "    </tr>\n",
       "    <tr>\n",
       "      <th>447</th>\n",
       "      <td>37</td>\n",
       "      <td>0</td>\n",
       "      <td>190</td>\n",
       "      <td>85</td>\n",
       "      <td>100</td>\n",
       "      <td>137</td>\n",
       "      <td>361</td>\n",
       "      <td>201</td>\n",
       "      <td>73</td>\n",
       "      <td>86</td>\n",
       "      <td>...</td>\n",
       "      <td>0.0</td>\n",
       "      <td>15.6</td>\n",
       "      <td>-1.6</td>\n",
       "      <td>0.0</td>\n",
       "      <td>0.0</td>\n",
       "      <td>0.4</td>\n",
       "      <td>2.4</td>\n",
       "      <td>38.0</td>\n",
       "      <td>62.4</td>\n",
       "      <td>10</td>\n",
       "    </tr>\n",
       "    <tr>\n",
       "      <th>448</th>\n",
       "      <td>36</td>\n",
       "      <td>0</td>\n",
       "      <td>166</td>\n",
       "      <td>68</td>\n",
       "      <td>108</td>\n",
       "      <td>176</td>\n",
       "      <td>365</td>\n",
       "      <td>194</td>\n",
       "      <td>116</td>\n",
       "      <td>-85</td>\n",
       "      <td>...</td>\n",
       "      <td>0.0</td>\n",
       "      <td>16.3</td>\n",
       "      <td>-28.6</td>\n",
       "      <td>0.0</td>\n",
       "      <td>0.0</td>\n",
       "      <td>1.5</td>\n",
       "      <td>1.0</td>\n",
       "      <td>-44.2</td>\n",
       "      <td>-33.2</td>\n",
       "      <td>2</td>\n",
       "    </tr>\n",
       "    <tr>\n",
       "      <th>449</th>\n",
       "      <td>32</td>\n",
       "      <td>1</td>\n",
       "      <td>155</td>\n",
       "      <td>55</td>\n",
       "      <td>93</td>\n",
       "      <td>106</td>\n",
       "      <td>386</td>\n",
       "      <td>218</td>\n",
       "      <td>63</td>\n",
       "      <td>54</td>\n",
       "      <td>...</td>\n",
       "      <td>-0.4</td>\n",
       "      <td>12.0</td>\n",
       "      <td>-0.7</td>\n",
       "      <td>0.0</td>\n",
       "      <td>0.0</td>\n",
       "      <td>0.5</td>\n",
       "      <td>2.4</td>\n",
       "      <td>25.0</td>\n",
       "      <td>46.6</td>\n",
       "      <td>1</td>\n",
       "    </tr>\n",
       "    <tr>\n",
       "      <th>450</th>\n",
       "      <td>78</td>\n",
       "      <td>1</td>\n",
       "      <td>160</td>\n",
       "      <td>70</td>\n",
       "      <td>79</td>\n",
       "      <td>127</td>\n",
       "      <td>364</td>\n",
       "      <td>138</td>\n",
       "      <td>78</td>\n",
       "      <td>28</td>\n",
       "      <td>...</td>\n",
       "      <td>0.0</td>\n",
       "      <td>10.4</td>\n",
       "      <td>-1.8</td>\n",
       "      <td>0.0</td>\n",
       "      <td>0.0</td>\n",
       "      <td>0.5</td>\n",
       "      <td>1.6</td>\n",
       "      <td>21.3</td>\n",
       "      <td>32.8</td>\n",
       "      <td>1</td>\n",
       "    </tr>\n",
       "  </tbody>\n",
       "</table>\n",
       "<p>451 rows × 280 columns</p>\n",
       "</div>"
      ],
      "text/plain": [
       "     Column 1  Column 2  Column 3  Column 4  Column 5  Column 6  Column 7  \\\n",
       "0          56         1       165        64        81       174       401   \n",
       "1          54         0       172        95       138       163       386   \n",
       "2          55         0       175        94       100       202       380   \n",
       "3          75         0       190        80        88       181       360   \n",
       "4          13         0       169        51       100       167       321   \n",
       "..        ...       ...       ...       ...       ...       ...       ...   \n",
       "446        53         1       160        70        80       199       382   \n",
       "447        37         0       190        85       100       137       361   \n",
       "448        36         0       166        68       108       176       365   \n",
       "449        32         1       155        55        93       106       386   \n",
       "450        78         1       160        70        79       127       364   \n",
       "\n",
       "     Column 8  Column 9  Column 10  ... Column 271 Column 272 Column 273  \\\n",
       "0         149        39         25  ...        0.0        8.5        0.0   \n",
       "1         185       102         96  ...        0.0        9.5       -2.4   \n",
       "2         179       143         28  ...        0.0       12.2       -2.2   \n",
       "3         177       103        -16  ...        0.0       13.1       -3.6   \n",
       "4         174        91        107  ...       -0.6       12.2       -2.8   \n",
       "..        ...       ...        ...  ...        ...        ...        ...   \n",
       "446       154       117        -37  ...        0.0        4.3       -5.0   \n",
       "447       201        73         86  ...        0.0       15.6       -1.6   \n",
       "448       194       116        -85  ...        0.0       16.3      -28.6   \n",
       "449       218        63         54  ...       -0.4       12.0       -0.7   \n",
       "450       138        78         28  ...        0.0       10.4       -1.8   \n",
       "\n",
       "    Column 274 Column 275  Column 276  Column 277  Column 278  Column 279  \\\n",
       "0          0.0        0.0         0.2         2.1        20.4        38.8   \n",
       "1          0.0        0.0         0.3         3.4        12.3        49.0   \n",
       "2          0.0        0.0         0.4         2.6        34.6        61.6   \n",
       "3          0.0        0.0        -0.1         3.9        25.4        62.8   \n",
       "4          0.0        0.0         0.9         2.2        13.5        31.1   \n",
       "..         ...        ...         ...         ...         ...         ...   \n",
       "446        0.0        0.0         0.7         0.6        -4.4        -0.5   \n",
       "447        0.0        0.0         0.4         2.4        38.0        62.4   \n",
       "448        0.0        0.0         1.5         1.0       -44.2       -33.2   \n",
       "449        0.0        0.0         0.5         2.4        25.0        46.6   \n",
       "450        0.0        0.0         0.5         1.6        21.3        32.8   \n",
       "\n",
       "     Column 280  \n",
       "0             6  \n",
       "1            10  \n",
       "2             1  \n",
       "3             7  \n",
       "4            14  \n",
       "..          ...  \n",
       "446           1  \n",
       "447          10  \n",
       "448           2  \n",
       "449           1  \n",
       "450           1  \n",
       "\n",
       "[451 rows x 280 columns]"
      ]
     },
     "execution_count": 4,
     "metadata": {},
     "output_type": "execute_result"
    }
   ],
   "source": [
    "#(a) How many patients and how many features are there?\n",
    "\n",
    "print(\"Part a: number of patients: \",df.shape[0]+1) #subtracting 1 because last column is the disease itself\n",
    "print(\"Part a: number of features: \",df.shape[1]-1) #adding 1 because index starts at 0\n",
    "\n",
    "\n",
    "#(c) Are there missing values? Replace them with the average of the corresponding feature column\n",
    "df=df.replace(\"?\",np.nan)\n",
    "print(\"Part c: Are there any NaN values?(True if ? were replaced with NaN): \",df.isnull().values.any())\n",
    "\n",
    "print(\"part c: replace NaN with average of column: \")\n",
    "df.fillna(df.mean())"
   ]
  },
  {
   "cell_type": "markdown",
   "id": "b49f1ad4",
   "metadata": {},
   "source": [
    "## Answer to Question 4 part b\n",
    "\n",
    "To comment on what the first 4 features are we can plot them and understand the values given the context of the dataset. We know that Column 280 is the medical condition of a patient. When we plot Column 1 we can see that the Max Values are not more than 100 and do not go below 0; we can assume that this is the age of all patients column in the dataset. \n",
    "\n",
    "Column 2 can be plotted on a pie chart as we can see there are only two values in the column : 0 and 1. This could mean that this column represents the gender of the patient in a binary format. \n",
    "\n",
    "Column 3, 4  are difficult to judge but based on the plots we can assume that Column 3 and Column 4 represent heart and the heart beats per minute for each patient as the values (barring a few outliers) are consistent with the average heart rates. "
   ]
  },
  {
   "cell_type": "code",
   "execution_count": 5,
   "id": "6ba770fa",
   "metadata": {},
   "outputs": [
    {
     "data": {
      "text/plain": [
       "<AxesSubplot:>"
      ]
     },
     "execution_count": 5,
     "metadata": {},
     "output_type": "execute_result"
    },
    {
     "data": {
      "image/png": "[encoded data removed]",
      "text/plain": [
       "<Figure size 432x288 with 1 Axes>"
      ]
     },
     "metadata": {
      "needs_background": "light"
     },
     "output_type": "display_data"
    }
   ],
   "source": [
    "#(b) What is the meaning of the first 4 features? See if you can understand what they mean.\n",
    "\n",
    "df.plot(y='Column 1')"
   ]
  },
  {
   "cell_type": "code",
   "execution_count": 6,
   "id": "b2dd90c2",
   "metadata": {},
   "outputs": [
    {
     "data": {
      "text/plain": [
       "array([<AxesSubplot:ylabel='None'>], dtype=object)"
      ]
     },
     "execution_count": 6,
     "metadata": {},
     "output_type": "execute_result"
    },
    {
     "data": {
      "image/png": "[encoded data removed]",
      "text/plain": [
       "<Figure size 432x288 with 1 Axes>"
      ]
     },
     "metadata": {},
     "output_type": "display_data"
    }
   ],
   "source": [
    "#(b) What is the meaning of the first 4 features? See if you can understand what they mean.\n",
    "\n",
    "df.groupby('Column 2').size().plot(kind='pie', subplots=True)"
   ]
  },
  {
   "cell_type": "code",
   "execution_count": 7,
   "id": "875e5ed6",
   "metadata": {},
   "outputs": [
    {
     "data": {
      "text/plain": [
       "<AxesSubplot:>"
      ]
     },
     "execution_count": 7,
     "metadata": {},
     "output_type": "execute_result"
    },
    {
     "data": {
      "image/png": "[encoded data removed]",
      "text/plain": [
       "<Figure size 432x288 with 1 Axes>"
      ]
     },
     "metadata": {
      "needs_background": "light"
     },
     "output_type": "display_data"
    },
    {
     "data": {
      "image/png": "[encoded data removed]",
      "text/plain": [
       "<Figure size 432x288 with 1 Axes>"
      ]
     },
     "metadata": {
      "needs_background": "light"
     },
     "output_type": "display_data"
    }
   ],
   "source": [
    "#(b) What is the meaning of the first 4 features? See if you can understand what they mean.\n",
    "\n",
    "df.plot(y='Column 3')\n",
    "df.plot(y='Column 4')"
   ]
  },
  {
   "cell_type": "markdown",
   "id": "89d180fa",
   "metadata": {},
   "source": [
    "## Answer to Question 4 part d\n",
    "\n",
    "Statistically the measure of which value affects the target the most is the Correlation Coefficient. This can be calculated in dataframes using the corr() method. The correlation value is in the range of 1 through -1 and the sign of the value descirbes a positive or negative correlation. For exmaple in the patient dataset Column 163 has a negative value meaning if Column 163 value goes up then the affect on Column 280 (target) will make this value go down. Values above 0.7 and lower than -0.7 are considered to represent a high coreelation and values between 0.3 and -0.3 are considered to be negligible coreelation with values closer (or equal) to 0 representing no correlation. \n",
    "\n",
    "in this dataset we can assess the highest and lowest correlation values numerical values to judge which feature has the most affect on Column 280. We can say that Column 91, 93 and 5 have the most affect on COlumn 280 with correlation values more than 0.3. "
   ]
  },
  {
   "cell_type": "code",
   "execution_count": 8,
   "id": "46c25ea8",
   "metadata": {},
   "outputs": [
    {
     "name": "stdout",
     "output_type": "stream",
     "text": [
      "Hightest Correlation Values Negative and positive\n",
      " Column 280    1.000000\n",
      "Column 91     0.369935\n",
      "Column 5      0.323919\n",
      "Column 93     0.316655\n",
      "Column 103    0.283321\n",
      "                ...   \n",
      "Column 271   -0.165585\n",
      "Column 169   -0.173591\n",
      "Column 2     -0.176193\n",
      "Column 243   -0.189687\n",
      "Column 163   -0.197783\n",
      "Name: Column 280, Length: 258, dtype: float64\n",
      "Lowest Correlation Values Negative and positive\n",
      " Column 1     -0.096395\n",
      "Column 2     -0.176193\n",
      "Column 3      0.005325\n",
      "Column 4     -0.091773\n",
      "Column 6     -0.101887\n",
      "                ...   \n",
      "Column 274   -0.036863\n",
      "Column 276   -0.088937\n",
      "Column 277   -0.033325\n",
      "Column 278    0.002868\n",
      "Column 279   -0.011539\n",
      "Name: Column 280, Length: 254, dtype: float64\n"
     ]
    }
   ],
   "source": [
    "#(d) How could you test which features strongly influence the patient condition and which do not?\n",
    "\n",
    "print(\"Hightest Correlation Values Negative and positive\\n\",df.corr().sort_values(by=['Column 280'], ascending=False)['Column 280'].dropna())\n",
    "\n",
    "corrVal=df.corr()\n",
    "\n",
    "leastCorr=[]\n",
    "\n",
    "for item in corrVal['Column 280']:\n",
    "    if item>=-0.3 and item<=0.3:\n",
    "        leastCorr.append(item)\n",
    "print(\"Lowest Correlation Values Negative and positive\\n\", corrVal['Column 280'].loc[corrVal['Column 280'].isin(leastCorr)])\n",
    "\n"
   ]
  },
  {
   "cell_type": "code",
   "execution_count": null,
   "id": "bbfb2d27",
   "metadata": {},
   "outputs": [],
   "source": []
  }
 ],
 "metadata": {
  "kernelspec": {
   "display_name": "Python 3 (ipykernel)",
   "language": "python",
   "name": "python3"
  },
  "language_info": {
   "codemirror_mode": {
    "name": "ipython",
    "version": 3
   },
   "file_extension": ".py",
   "mimetype": "text/x-python",
   "name": "python",
   "nbconvert_exporter": "python",
   "pygments_lexer": "ipython3",
   "version": "3.9.12"
  }
 },
 "nbformat": 4,
 "nbformat_minor": 5
}
