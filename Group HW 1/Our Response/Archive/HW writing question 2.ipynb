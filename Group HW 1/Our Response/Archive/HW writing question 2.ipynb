{
 "cells": [
  {
   "cell_type": "code",
   "execution_count": 2,
   "id": "560b8f8e",
   "metadata": {},
   "outputs": [],
   "source": [
    "import numpy as np\n",
    "\n",
    "\n",
    "def ncr(n):\n",
    "    return (np.math.factorial(100) / (np.math.factorial(n) * np.math.factorial(100 - n)))\n",
    "\n",
    "#We have defined the probability function here as nCr*(p^r)*(q^(n-r)). We have called ncr function here to find the value of nCr, p is 2/3 here and q is 1-(2/3) which is 1/3\n",
    "def probability(n):\n",
    "    return (ncr(n) * ((2 / 3) ** n) * ((1 / 3) ** (100 - n)))\n",
    "\n",
    "#Function to find the final probability\n",
    "def probless(n):\n",
    "    if n >= 0:\n",
    "        return (probability(n) + probability(n - 1))"
   ]
  },
  {
   "cell_type": "code",
   "execution_count": 3,
   "id": "37c82b4b",
   "metadata": {},
   "outputs": [
    {
     "data": {
      "text/plain": [
       "0.0003284517931420376"
      ]
     },
     "execution_count": 3,
     "metadata": {},
     "output_type": "execute_result"
    }
   ],
   "source": [
    "probless(50)"
   ]
  },
  {
   "cell_type": "code",
   "execution_count": null,
   "id": "66a33f31",
   "metadata": {},
   "outputs": [],
   "source": []
  }
 ],
 "metadata": {
  "kernelspec": {
   "display_name": "Python 3 (ipykernel)",
   "language": "python",
   "name": "python3"
  },
  "language_info": {
   "codemirror_mode": {
    "name": "ipython",
    "version": 3
   },
   "file_extension": ".py",
   "mimetype": "text/x-python",
   "name": "python",
   "nbconvert_exporter": "python",
   "pygments_lexer": "ipython3",
   "version": "3.10.5"
  }
 },
 "nbformat": 4,
 "nbformat_minor": 5
}
