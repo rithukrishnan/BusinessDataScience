{
 "cells": [
  {
   "cell_type": "code",
   "execution_count": 1,
   "id": "3bd319c0",
   "metadata": {},
   "outputs": [],
   "source": [
    "import pandas as pd\n",
    "import matplotlib.pyplot as plt\n",
    "import numpy as np"
   ]
  },
  {
   "cell_type": "code",
   "execution_count": 2,
   "id": "bb93e2c4",
   "metadata": {},
   "outputs": [],
   "source": [
    "df = pd.read_csv(r'Lab2_Data/DF2', index_col=[0])\n",
    "\n",
    "#Converting data into dataframe\n"
   ]
  },
  {
   "cell_type": "code",
   "execution_count": 3,
   "id": "0dbe6396",
   "metadata": {},
   "outputs": [],
   "source": [
    "x = df.iloc[:,0]\n",
    "y = df.iloc[:,1]\n",
    "#listing the x and y variables"
   ]
  },
  {
   "cell_type": "code",
   "execution_count": 4,
   "id": "061024b4",
   "metadata": {},
   "outputs": [
    {
     "data": {
      "image/png": "[encoded data removed]",
      "text/plain": [
       "<Figure size 640x480 with 1 Axes>"
      ]
     },
     "metadata": {},
     "output_type": "display_data"
    }
   ],
   "source": [
    "plt.scatter(x,y)\n",
    "plt.show()"
   ]
  },
  {
   "cell_type": "code",
   "execution_count": 5,
   "id": "63759fc8",
   "metadata": {},
   "outputs": [],
   "source": [
    "cov = np.cov(df, rowvar=False)\n",
    "#calculating the covariance based on the above scatterplot inorder to quantize the variability between the datasets and outliers"
   ]
  },
  {
   "cell_type": "code",
   "execution_count": 6,
   "id": "1de82235",
   "metadata": {},
   "outputs": [],
   "source": [
    "i,j = np.linalg.eig(cov)\n",
    "#calculating the eigenvalues and right eigenvectors for the given square matrix (covariance matrix)"
   ]
  },
  {
   "cell_type": "code",
   "execution_count": 7,
   "id": "be1803b7",
   "metadata": {},
   "outputs": [],
   "source": [
    "e_arr = i**(-1/2) #calculating covariance value\n",
    "e_comp = np.diag(e_arr) #Extract the diagonal array through the concept of eigen values matrix\n",
    "Q = e_comp@j.T\n",
    "new_Data = Q @ df.T\n",
    "#Estimating the dot product"
   ]
  },
  {
   "cell_type": "code",
   "execution_count": 8,
   "id": "e725a898",
   "metadata": {},
   "outputs": [
    {
     "data": {
      "text/plain": [
       "<Figure size 640x480 with 0 Axes>"
      ]
     },
     "metadata": {},
     "output_type": "display_data"
    }
   ],
   "source": [
    "fig2 = plt.figure()\n"
   ]
  },
  {
   "cell_type": "code",
   "execution_count": 9,
   "id": "c378d22a",
   "metadata": {},
   "outputs": [
    {
     "ename": "NameError",
     "evalue": "name 'newData' is not defined",
     "output_type": "error",
     "traceback": [
      "\u001b[0;31m---------------------------------------------------------------------------\u001b[0m",
      "\u001b[0;31mNameError\u001b[0m                                 Traceback (most recent call last)",
      "Input \u001b[0;32mIn [9]\u001b[0m, in \u001b[0;36m<cell line: 1>\u001b[0;34m()\u001b[0m\n\u001b[0;32m----> 1\u001b[0m ax_val \u001b[38;5;241m=\u001b[39m \u001b[43mnewData\u001b[49m\u001b[38;5;241m.\u001b[39mplot(x\u001b[38;5;241m=\u001b[39m\u001b[38;5;241m0\u001b[39m, y\u001b[38;5;241m=\u001b[39m\u001b[38;5;241m1\u001b[39m, kind\u001b[38;5;241m=\u001b[39m\u001b[38;5;124m\"\u001b[39m\u001b[38;5;124mscatter\u001b[39m\u001b[38;5;124m\"\u001b[39m, c\u001b[38;5;241m=\u001b[39m\u001b[38;5;124m\"\u001b[39m\u001b[38;5;124mgrey\u001b[39m\u001b[38;5;124m\"\u001b[39m)\n\u001b[1;32m      2\u001b[0m ax_val\u001b[38;5;241m.\u001b[39mlegend([\u001b[38;5;124m'\u001b[39m\u001b[38;5;124mnormal data\u001b[39m\u001b[38;5;124m'\u001b[39m,\u001b[38;5;124m'\u001b[39m\u001b[38;5;124moutlier1\u001b[39m\u001b[38;5;124m'\u001b[39m,\u001b[38;5;124m'\u001b[39m\u001b[38;5;124moutlier2\u001b[39m\u001b[38;5;124m'\u001b[39m])\n\u001b[1;32m      3\u001b[0m ax_val\u001b[38;5;241m.\u001b[39mset_aspect(\u001b[38;5;124m'\u001b[39m\u001b[38;5;124mequal\u001b[39m\u001b[38;5;124m'\u001b[39m)\n",
      "\u001b[0;31mNameError\u001b[0m: name 'newData' is not defined"
     ]
    }
   ],
   "source": [
    "ax_val = newData.plot(x=0, y=1, kind=\"scatter\", c=\"grey\")\n",
    "ax_val.legend(['normal data','outlier1','outlier2'])\n",
    "ax_val.set_aspect('equal')\n",
    "ax_val.set_xlim(-10,15)\n",
    "#now plotting the scatter plot to depict the outlier points\n",
    "#Using the above eigen values, covariance and dot product to show that (5,5.5) is nearer than (-1,1)"
   ]
  },
  {
   "cell_type": "code",
   "execution_count": null,
   "id": "959c28ac",
   "metadata": {},
   "outputs": [],
   "source": []
  }
 ],
 "metadata": {
  "kernelspec": {
   "display_name": "Python 3 (ipykernel)",
   "language": "python",
   "name": "python3"
  },
  "language_info": {
   "codemirror_mode": {
    "name": "ipython",
    "version": 3
   },
   "file_extension": ".py",
   "mimetype": "text/x-python",
   "name": "python",
   "nbconvert_exporter": "python",
   "pygments_lexer": "ipython3",
   "version": "3.10.5"
  }
 },
 "nbformat": 4,
 "nbformat_minor": 5
}
