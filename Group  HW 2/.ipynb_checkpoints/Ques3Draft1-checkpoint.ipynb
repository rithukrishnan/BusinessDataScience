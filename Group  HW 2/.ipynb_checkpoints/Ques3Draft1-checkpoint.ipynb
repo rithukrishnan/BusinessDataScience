{
 "cells": [
  {
   "cell_type": "markdown",
   "metadata": {},
   "source": [
    "# <p style=\"text-align: center;\">Business Data Science</p>\n",
    "# <p style=\"text-align: center;\">HW 2</p>"
   ]
  },
  {
   "cell_type": "markdown",
   "metadata": {},
   "source": [
    "\n"
   ]
  },
  {
   "cell_type": "code",
   "execution_count": 1,
   "metadata": {},
   "outputs": [
    {
     "name": "stdout",
     "output_type": "stream",
     "text": [
      "Enter year:2015\n",
      "Enter k:10\n"
     ]
    },
    {
     "data": {
      "text/plain": [
       "Emma      2\n",
       "Chase     2\n",
       "Karson    2\n",
       "Nino      2\n",
       "Lyrick    2\n",
       "Sully     2\n",
       "Nix       2\n",
       "Taygen    2\n",
       "Stone     2\n",
       "Wyatt     2\n",
       "Name: Name, dtype: int64"
      ]
     },
     "execution_count": 1,
     "metadata": {},
     "output_type": "execute_result"
    }
   ],
   "source": [
    "import numpy as np\n",
    "import pandas as pd\n",
    "import glob\n",
    "import os\n",
    "\n",
    "from scipy.stats import percentileofscore\n",
    "from collections import defaultdict\n",
    "from operator import add\n",
    "from pyspark.mllib.feature import HashingTF, IDF\n",
    "import math, random\n",
    "\n",
    "year = input(\"Enter year:\")\n",
    "k = int(input(\"Enter k:\"))\n",
    "#year = './Names/yob' + year + '.txt'\n",
    "\n",
    "\n",
    "#df = pd.read_csv(year, index_col=None, header=0)\n",
    "#year=2015\n",
    "chosenYear = pd.read_csv(\"Names/yob%s.txt\" % year ,names = [\"Name\", \"Gender\",\"Number\"])\n",
    "\n",
    "#df.loc[df['Name'] == name]\n",
    "\n",
    "chosenYear['Name'].value_counts().head(k)\n",
    "\n"
   ]
  },
  {
   "cell_type": "code",
   "execution_count": 2,
   "metadata": {},
   "outputs": [
    {
     "data": {
      "text/html": [
       "<div>\n",
       "<style scoped>\n",
       "    .dataframe tbody tr th:only-of-type {\n",
       "        vertical-align: middle;\n",
       "    }\n",
       "\n",
       "    .dataframe tbody tr th {\n",
       "        vertical-align: top;\n",
       "    }\n",
       "\n",
       "    .dataframe thead th {\n",
       "        text-align: right;\n",
       "    }\n",
       "</style>\n",
       "<table border=\"1\" class=\"dataframe\">\n",
       "  <thead>\n",
       "    <tr style=\"text-align: right;\">\n",
       "      <th></th>\n",
       "      <th>Name</th>\n",
       "      <th>Gender</th>\n",
       "      <th>Number</th>\n",
       "    </tr>\n",
       "  </thead>\n",
       "  <tbody>\n",
       "    <tr>\n",
       "      <th>0</th>\n",
       "      <td>Emma</td>\n",
       "      <td>F</td>\n",
       "      <td>20355</td>\n",
       "    </tr>\n",
       "    <tr>\n",
       "      <th>1</th>\n",
       "      <td>Olivia</td>\n",
       "      <td>F</td>\n",
       "      <td>19553</td>\n",
       "    </tr>\n",
       "    <tr>\n",
       "      <th>2</th>\n",
       "      <td>Sophia</td>\n",
       "      <td>F</td>\n",
       "      <td>17327</td>\n",
       "    </tr>\n",
       "    <tr>\n",
       "      <th>3</th>\n",
       "      <td>Ava</td>\n",
       "      <td>F</td>\n",
       "      <td>16286</td>\n",
       "    </tr>\n",
       "    <tr>\n",
       "      <th>4</th>\n",
       "      <td>Isabella</td>\n",
       "      <td>F</td>\n",
       "      <td>15504</td>\n",
       "    </tr>\n",
       "  </tbody>\n",
       "</table>\n",
       "</div>"
      ],
      "text/plain": [
       "       Name Gender  Number\n",
       "0      Emma      F   20355\n",
       "1    Olivia      F   19553\n",
       "2    Sophia      F   17327\n",
       "3       Ava      F   16286\n",
       "4  Isabella      F   15504"
      ]
     },
     "execution_count": 2,
     "metadata": {},
     "output_type": "execute_result"
    }
   ],
   "source": [
    "chosenYear.head(5)"
   ]
  },
  {
   "cell_type": "code",
   "execution_count": 3,
   "metadata": {},
   "outputs": [
    {
     "name": "stdout",
     "output_type": "stream",
     "text": [
      "Enter name to evaluate for men and women:Sara\n",
      "The name  Sara  is repated 419025  times for Females\n",
      "The name  Sara  is repated 1236  times for Males\n"
     ]
    }
   ],
   "source": [
    "#part 2\n",
    "\n",
    "path = r'Names/'                     # use your path\n",
    "all_files = glob.glob(os.path.join(path, \"*.txt\"))\n",
    "\n",
    "li = []\n",
    "\n",
    "for filename in all_files:\n",
    "    date = filename.replace('Names/yob','').replace('.txt','')\n",
    "\n",
    "    df = pd.read_csv(filename, index_col=None, header=0,names = [\"Name\", \"Gender\",\"Number\"])\n",
    "    df['year'] = date\n",
    "    li.append(df)\n",
    "\n",
    "df = pd.concat(li, axis=0, ignore_index=True)\n",
    "name = input(\"Enter name to evaluate for men and women:\")\n",
    "namesumF = df.loc[df['Name'] == name].loc[df['Gender']=='F'].Number.sum()\n",
    "print(\"The name \",name,\" is repated\",namesumF, \" times for Females\")\n",
    "\n",
    "namesumM = df.loc[df['Name'] == name].loc[df['Gender']=='M'].Number.sum()\n",
    "print(\"The name \",name,\" is repated\",namesumM, \" times for Males\")\n"
   ]
  },
  {
   "cell_type": "code",
   "execution_count": 4,
   "metadata": {},
   "outputs": [],
   "source": [
    "#Calculate frequency of name but per year\n",
    "def nameFreqByYear(name):\n",
    "    \n",
    "    #getting people with same name and gender in chosen year\n",
    "    maleCol = chosenYear['Number'].loc[(chosenYear['Name'] == name) & (chosenYear['Gender'] == 'M')]\n",
    "    femaleCol = chosenYear['Number'].loc[(chosenYear['Name'] == name) & (chosenYear['Gender'] == 'F')]\n",
    "\n",
    "    if maleCol.empty is False:\n",
    "        maleCount = maleCol.values[0]\n",
    "    else:\n",
    "        maleCount = 0\n",
    "    \n",
    "    if femaleCol.empty is False:\n",
    "        femaleCount = femaleCol.values[0]\n",
    "    else:\n",
    "        femaleCount = 0\n",
    "        \n",
    "    return maleCount,femaleCount\n",
    "\n"
   ]
  },
  {
   "cell_type": "code",
   "execution_count": 5,
   "metadata": {},
   "outputs": [],
   "source": [
    "#method to calculate relative frequency as mapped to total names\n",
    "def relativeFreq(name):\n",
    "    maleCount,femaleCount = nameFreqByYear(name)\n",
    "    \n",
    "    sumByYear = np.sum(chosenYear,axis=0)[2]\n",
    "    ansMale = maleCount/sumByYear\n",
    "    ansFemale = femaleCount/sumByYear\n",
    "    \n",
    "    return ansMale,ansFemale\n"
   ]
  },
  {
   "cell_type": "code",
   "execution_count": 6,
   "metadata": {},
   "outputs": [],
   "source": [
    "#method for frequency per year    \n",
    "def freqPerYear(name,flag):\n",
    "    ret = []\n",
    "    for year in range(1880, 2016):\n",
    "        chosenYear['year'] = year\n",
    "        if not flag:\n",
    "            maleFrequency, femaleFrequency = nameFreqByYear(name)\n",
    "            chosenYear.loc[(chosenYear['Name'] == name) & (chosenYear['year'] == year) & (chosenYear['Gender'] == 'M'), 'Frequency'] = maleFrequency\n",
    "            chosenYear.loc[(chosenYear['Name'] == name) & (chosenYear['year'] == year) & (chosenYear['Gender'] == 'F'), 'Frequency'] = femaleFrequency\n",
    "        else:\n",
    "            maleFrequency, femaleFrequency = relativeFreq(name)\n",
    "            chosenYear.loc[(chosenYear['Name'] == name) & (chosenYear['year'] == year) & (chosenYear['Gender'] == 'M'), 'Frequency'] = maleFrequency\n",
    "            chosenYear.loc[(chosenYear['Name'] == name) & (chosenYear['year'] == year) & (chosenYear['Gender'] == 'F'), 'Frequency'] = femaleFrequency\n",
    "            \n",
    "            \n",
    "    ret.append(chosenYear.loc[(chosenYear['Name'] == name) & (chosenYear['year'] == year),('year', 'Name', 'Frequency', 'Gender')])\n",
    "    ret = pd.concat(ret)\n",
    "    return ret\n"
   ]
  },
  {
   "cell_type": "code",
   "execution_count": 7,
   "metadata": {},
   "outputs": [
    {
     "name": "stdout",
     "output_type": "stream",
     "text": [
      "The relative frequency for chosen name that is Sara in chosen year: \n",
      "      year  Name  Frequency Gender\n",
      "161  2015  Sara   0.000535      F\n"
     ]
    }
   ],
   "source": [
    "#answer for part 3\n",
    "relativeFrequencyForName = freqPerYear('Sara', flag=True)\n",
    "print(\"The relative frequency for chosen name that is Sara in chosen year: \\n\",relativeFrequencyForName)"
   ]
  },
  {
   "cell_type": "code",
   "execution_count": 8,
   "metadata": {},
   "outputs": [
    {
     "name": "stdout",
     "output_type": "stream",
     "text": [
      "['Aalijah' 'Aamari' 'Aaren' ... 'Zy' 'Zyaire' 'Zyian']\n"
     ]
    },
    {
     "name": "stderr",
     "output_type": "stream",
     "text": [
      "/var/folders/gp/xs_xkf814zx898m2wdld0hw40000gn/T/ipykernel_7876/2697093693.py:29: FutureWarning: In a future version of pandas all arguments of DataFrame.drop except for the argument 'labels' will be keyword-only.\n",
      "  ret = ret.reset_index().drop('Year',1)\n"
     ]
    }
   ],
   "source": [
    "#Part 4\n",
    "\n",
    "\n",
    "#method to loop over given year file\n",
    "def getDataForYear(year):\n",
    "    ret = pd.read_csv(\"Names/yob%s.txt\" % year ,names = [\"Name\", \"Gender\",\"Number\"])\n",
    "    return ret\n",
    "\n",
    "\n",
    "#calculates names that were popular for M and then swicthed to F and vice versa\n",
    "def namesPopularitySwitch():\n",
    "    ret = []\n",
    "    \n",
    "    #loop over every year\n",
    "    for year in range(1880,2016):\n",
    "        temp = getDataForYear(year)\n",
    "        temp['Year'] = year\n",
    "        ret.append(temp)\n",
    "        \n",
    "    \n",
    "    ret = pd.concat(ret)\n",
    "    \n",
    "    #assign change column \n",
    "    ret[\"change\"] = ret[\"Gender\"].map({'M':1,'F':-1})\n",
    "    ret[\"change\"] = ret[\"change\"] * ret[\"Number\"]\n",
    "    \n",
    "    #drop year info\n",
    "    ret = ret.groupby([\"Name\",\"Year\"]).sum()\n",
    "    ret = ret.reset_index().drop('Year',1)\n",
    "    \n",
    "    #assign extreme values\n",
    "    ret = ret.groupby('Name').agg({'change':['min','max']})\n",
    "    ret.columns = ['min', 'max']\n",
    "    \n",
    "    \n",
    "    #create new switch column if there was flag switch in name and remove rest\n",
    "    ret['switch'] = (np.sign(ret[\"min\"] * ret['max']) == -1)\n",
    "    ret = ret[ret['switch']].reset_index()\n",
    "    \n",
    "    return ret['Name'].values\n",
    "\n",
    "\n",
    "print(namesPopularitySwitch())\n"
   ]
  },
  {
   "cell_type": "code",
   "execution_count": null,
   "metadata": {},
   "outputs": [],
   "source": []
  }
 ],
 "metadata": {
  "kernelspec": {
   "display_name": "Python 3 (ipykernel)",
   "language": "python",
   "name": "python3"
  },
  "language_info": {
   "codemirror_mode": {
    "name": "ipython",
    "version": 3
   },
   "file_extension": ".py",
   "mimetype": "text/x-python",
   "name": "python",
   "nbconvert_exporter": "python",
   "pygments_lexer": "ipython3",
   "version": "3.10.5"
  }
 },
 "nbformat": 4,
 "nbformat_minor": 2
}
