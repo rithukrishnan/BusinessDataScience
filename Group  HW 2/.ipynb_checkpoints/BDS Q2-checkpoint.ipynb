{
 "cells": [
  {
   "cell_type": "code",
   "execution_count": 50,
   "id": "3bd319c0",
   "metadata": {},
   "outputs": [],
   "source": [
    "import pandas as pd\n",
    "import matplotlib.pyplot as plt\n",
    "import numpy as np"
   ]
  },
  {
   "cell_type": "code",
   "execution_count": 62,
   "id": "bb93e2c4",
   "metadata": {},
   "outputs": [],
   "source": [
    "df = pd.read_csv('DF2', index_col=[0])\n",
    "\n",
    "#Converting data into dataframe\n"
   ]
  },
  {
   "cell_type": "code",
   "execution_count": 67,
   "id": "0dbe6396",
   "metadata": {},
   "outputs": [],
   "source": [
    "x = df.iloc[:,0]\n",
    "y = df.iloc[:,1]\n",
    "#listing the x and y variables"
   ]
  },
  {
   "cell_type": "code",
   "execution_count": 68,
   "id": "061024b4",
   "metadata": {},
   "outputs": [
    {
     "data": {
      "image/png": "[encoded data removed]",
      "text/plain": [
       "<Figure size 432x288 with 1 Axes>"
      ]
     },
     "metadata": {
      "needs_background": "light"
     },
     "output_type": "display_data"
    }
   ],
   "source": [
    "plt.scatter(x,y)\n",
    "plt.show()"
   ]
  },
  {
   "cell_type": "code",
   "execution_count": 72,
   "id": "63759fc8",
   "metadata": {},
   "outputs": [],
   "source": [
    "cov = np.cov(df, rowvar=False)\n",
    "#calculating the covariance based on the above scatterplot inorder to quantize the variability between the datasets and outliers"
   ]
  },
  {
   "cell_type": "code",
   "execution_count": 73,
   "id": "1de82235",
   "metadata": {},
   "outputs": [],
   "source": [
    "i,j = np.linalg.eig(cov)\n",
    "#calculating the eigenvalues and right eigenvectors for the given square matrix (covariance matrix)"
   ]
  },
  {
   "cell_type": "code",
   "execution_count": 87,
   "id": "be1803b7",
   "metadata": {},
   "outputs": [],
   "source": [
    "e_arr = i**(-1/2) #calculating covariance value\n",
    "e_comp = np.diag(e_arr) #Extract the diagonal array through the concept of eigen values matrix\n",
    "Q = e_comp@j.T\n",
    "new_Data = Q @ df.T\n",
    "#Estimating the dot product"
   ]
  },
  {
   "cell_type": "code",
   "execution_count": 88,
   "id": "e725a898",
   "metadata": {},
   "outputs": [
    {
     "data": {
      "text/plain": [
       "<Figure size 432x288 with 0 Axes>"
      ]
     },
     "metadata": {},
     "output_type": "display_data"
    }
   ],
   "source": [
    "fig2 = plt.figure()\n"
   ]
  },
  {
   "cell_type": "code",
   "execution_count": 89,
   "id": "c378d22a",
   "metadata": {},
   "outputs": [
    {
     "data": {
      "text/plain": [
       "(-10.0, 15.0)"
      ]
     },
     "execution_count": 89,
     "metadata": {},
     "output_type": "execute_result"
    },
    {
     "data": {
      "image/png": "[encoded data removed]",
      "text/plain": [
       "<Figure size 432x288 with 1 Axes>"
      ]
     },
     "metadata": {
      "needs_background": "light"
     },
     "output_type": "display_data"
    }
   ],
   "source": [
    "ax_val = newData.plot(x=0, y=1, kind=\"scatter\", c=\"grey\")\n",
    "ax_val.legend(['normal data','outlier1','outlier2'])\n",
    "ax_val.set_aspect('equal')\n",
    "ax_val.set_xlim(-10,15)\n",
    "#now plotting the scatter plot to depict the outlier points\n",
    "#Using the above eigen values, covariance and dot product to show that (5,5.5) is nearer than (-1,1)"
   ]
  },
  {
   "cell_type": "code",
   "execution_count": null,
   "id": "959c28ac",
   "metadata": {},
   "outputs": [],
   "source": []
  }
 ],
 "metadata": {
  "kernelspec": {
   "display_name": "Python 3 (ipykernel)",
   "language": "python",
   "name": "python3"
  },
  "language_info": {
   "codemirror_mode": {
    "name": "ipython",
    "version": 3
   },
   "file_extension": ".py",
   "mimetype": "text/x-python",
   "name": "python",
   "nbconvert_exporter": "python",
   "pygments_lexer": "ipython3",
   "version": "3.10.5"
  }
 },
 "nbformat": 4,
 "nbformat_minor": 5
}
