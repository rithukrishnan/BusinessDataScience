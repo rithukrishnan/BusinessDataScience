{
 "cells": [
  {
   "cell_type": "code",
   "execution_count": 1,
   "id": "411e5d16",
   "metadata": {},
   "outputs": [],
   "source": [
    "import pandas as pd\n",
    "import numpy as np\n",
    "import matplotlib.pyplot as plt\n",
    "from sklearn.model_selection import train_test_split\n",
    "from sklearn.metrics import plot_roc_curve\n",
    "from sklearn.model_selection import cross_val_score\n",
    "from sklearn.metrics import roc_auc_score\n",
    "from sklearn.metrics import mean_squared_error\n",
    "\n",
    "df_train = pd.read_csv('train_final.csv')\n",
    "df_test = pd.read_csv('test_final.csv')"
   ]
  },
  {
   "cell_type": "code",
   "execution_count": 2,
   "id": "1b08faee",
   "metadata": {},
   "outputs": [],
   "source": [
    "target = df_train[\"Y\"]\n",
    "id = df_test[\"Id\"].values\n",
    "\n",
    "df_train.drop(['Id','Y'],axis=1,inplace=True)\n",
    "df_test.drop(['Id'],axis=1,inplace=True)"
   ]
  },
  {
   "cell_type": "code",
   "execution_count": 7,
   "id": "b65dba8c",
   "metadata": {},
   "outputs": [
    {
     "name": "stdout",
     "output_type": "stream",
     "text": [
      "0.9563866344958689\n",
      "Accuracy score is 91.16%\n",
      "Cross validation score for catboost:  84.44212313598109\n"
     ]
    }
   ],
   "source": [
    "from catboost import CatBoostClassifier\n",
    "from sklearn.metrics import accuracy_score\n",
    "\n",
    "para = { 'learning_rate': 0.1, 'n_estimators':140, 'depth': 4,  \"verbose\":0}\n",
    "\n",
    "catboost = CatBoostClassifier(**para)\n",
    "\n",
    "catboost.fit(df_train, target)\n",
    "\n",
    "y_proba = catboost.predict_proba(df_train)\n",
    "print(roc_auc_score(target, y_proba[:,1]))\n",
    "\n",
    "\n",
    "\n",
    "y_pred = catboost.predict(df_train)\n",
    "\n",
    "score = (accuracy_score(target, y_pred)) * 100\n",
    "print(\"Accuracy score is %.2f%%\" % score)\n",
    "\n",
    "score = cross_val_score(catboost, df_train, target)\n",
    "print (\"Cross validation score for catboost: \",np.mean(score)*100)"
   ]
  },
  {
   "cell_type": "code",
   "execution_count": 4,
   "id": "ee1abf65",
   "metadata": {},
   "outputs": [
    {
     "ename": "NameError",
     "evalue": "name 'x_test' is not defined",
     "output_type": "error",
     "traceback": [
      "\u001b[0;31m---------------------------------------------------------------------------\u001b[0m",
      "\u001b[0;31mNameError\u001b[0m                                 Traceback (most recent call last)",
      "Input \u001b[0;32mIn [4]\u001b[0m, in \u001b[0;36m<cell line: 4>\u001b[0;34m()\u001b[0m\n\u001b[1;32m      1\u001b[0m \u001b[38;5;66;03m# 0.8830594807755504\u001b[39;00m\n\u001b[1;32m      2\u001b[0m \u001b[38;5;66;03m# Accuracy score is 85.80%\u001b[39;00m\n\u001b[0;32m----> 4\u001b[0m plot_roc_curve(catboost, \u001b[43mx_test\u001b[49m, y_test, name \u001b[38;5;241m=\u001b[39m \u001b[38;5;124m'\u001b[39m\u001b[38;5;124mCatBoost\u001b[39m\u001b[38;5;124m'\u001b[39m)\n",
      "\u001b[0;31mNameError\u001b[0m: name 'x_test' is not defined"
     ]
    }
   ],
   "source": [
    "# 0.8830594807755504\n",
    "# Accuracy score is 85.80%\n",
    "\n",
    "# plot_roc_curve(catboost, x_test, y_test, name = 'CatBoost')"
   ]
  },
  {
   "cell_type": "code",
   "execution_count": null,
   "id": "0c3f3d9e",
   "metadata": {},
   "outputs": [],
   "source": [
    "sub_proba = catboost.predict_proba(df_test)\n",
    "pred_col=np.c_[id,sub_proba[:,1]]\n",
    "\n",
    "submission = pd.DataFrame(pred_col, columns = ['Id','Y'])\n",
    "submission[\"Id\"] = submission[\"Id\"].astype(\"Int32\")\n",
    "submission"
   ]
  },
  {
   "cell_type": "code",
   "execution_count": null,
   "id": "298a9f5f",
   "metadata": {},
   "outputs": [],
   "source": [
    "submission.to_csv('lastday1submission.csv', index=False)"
   ]
  }
 ],
 "metadata": {
  "kernelspec": {
   "display_name": "Python 3 (ipykernel)",
   "language": "python",
   "name": "python3"
  },
  "language_info": {
   "codemirror_mode": {
    "name": "ipython",
    "version": 3
   },
   "file_extension": ".py",
   "mimetype": "text/x-python",
   "name": "python",
   "nbconvert_exporter": "python",
   "pygments_lexer": "ipython3",
   "version": "3.10.5"
  }
 },
 "nbformat": 4,
 "nbformat_minor": 5
}
