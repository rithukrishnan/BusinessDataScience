{
 "cells": [
  {
   "cell_type": "code",
   "execution_count": 1,
   "id": "411e5d16",
   "metadata": {},
   "outputs": [],
   "source": [
    "import pandas as pd\n",
    "import numpy as np\n",
    "import matplotlib.pyplot as plt\n",
    "from sklearn.model_selection import train_test_split\n",
    "from sklearn.metrics import plot_roc_curve\n",
    "from sklearn.model_selection import cross_val_score\n",
    "from sklearn.metrics import roc_auc_score\n",
    "from sklearn.metrics import mean_squared_error\n",
    "\n",
    "df_train = pd.read_csv('train_final.csv')\n",
    "df_test = pd.read_csv('test_final.csv')"
   ]
  },
  {
   "cell_type": "code",
   "execution_count": 2,
   "id": "1b08faee",
   "metadata": {},
   "outputs": [],
   "source": [
    "target = df_train[\"Y\"]\n",
    "id = df_test[\"Id\"].values\n",
    "\n",
    "df_train.drop(['Id','Y'],axis=1,inplace=True)\n",
    "df_test.drop(['Id'],axis=1,inplace=True)"
   ]
  },
  {
   "cell_type": "code",
   "execution_count": 3,
   "id": "b65dba8c",
   "metadata": {},
   "outputs": [
    {
     "name": "stdout",
     "output_type": "stream",
     "text": [
      "0.9563866344958689\n",
      "Accuracy score is 91.16%\n",
      "Cross validation score for catboost:  84.44212313598109\n"
     ]
    }
   ],
   "source": [
    "from catboost import CatBoostClassifier\n",
    "from sklearn.metrics import accuracy_score\n",
    "\n",
    "para = { 'learning_rate': 0.1, 'n_estimators':140, 'depth': 4,  \"verbose\":0}\n",
    "\n",
    "catboost = CatBoostClassifier(**para)\n",
    "\n",
    "catboost.fit(df_train, target)\n",
    "\n",
    "y_proba = catboost.predict_proba(df_train)\n",
    "print(roc_auc_score(target, y_proba[:,1]))\n",
    "\n",
    "\n",
    "\n",
    "y_pred = catboost.predict(df_train)\n",
    "\n",
    "score = (accuracy_score(target, y_pred)) * 100\n",
    "print(\"Accuracy score is %.2f%%\" % score)\n",
    "\n",
    "score = cross_val_score(catboost, df_train, target)\n",
    "print (\"Cross validation score for catboost: \",np.mean(score)*100)"
   ]
  },
  {
   "cell_type": "code",
   "execution_count": 4,
   "id": "ee1abf65",
   "metadata": {},
   "outputs": [],
   "source": [
    "# 0.8830594807755504\n",
    "# Accuracy score is 85.80%\n",
    "\n",
    "# plot_roc_curve(catboost, x_test, y_test, name = 'CatBoost')"
   ]
  },
  {
   "cell_type": "code",
   "execution_count": 5,
   "id": "0c3f3d9e",
   "metadata": {},
   "outputs": [
    {
     "data": {
      "text/html": [
       "<div>\n",
       "<style scoped>\n",
       "    .dataframe tbody tr th:only-of-type {\n",
       "        vertical-align: middle;\n",
       "    }\n",
       "\n",
       "    .dataframe tbody tr th {\n",
       "        vertical-align: top;\n",
       "    }\n",
       "\n",
       "    .dataframe thead th {\n",
       "        text-align: right;\n",
       "    }\n",
       "</style>\n",
       "<table border=\"1\" class=\"dataframe\">\n",
       "  <thead>\n",
       "    <tr style=\"text-align: right;\">\n",
       "      <th></th>\n",
       "      <th>Id</th>\n",
       "      <th>Y</th>\n",
       "    </tr>\n",
       "  </thead>\n",
       "  <tbody>\n",
       "    <tr>\n",
       "      <th>0</th>\n",
       "      <td>2604</td>\n",
       "      <td>0.063183</td>\n",
       "    </tr>\n",
       "    <tr>\n",
       "      <th>1</th>\n",
       "      <td>2605</td>\n",
       "      <td>0.080340</td>\n",
       "    </tr>\n",
       "    <tr>\n",
       "      <th>2</th>\n",
       "      <td>2606</td>\n",
       "      <td>0.026708</td>\n",
       "    </tr>\n",
       "    <tr>\n",
       "      <th>3</th>\n",
       "      <td>2607</td>\n",
       "      <td>0.027151</td>\n",
       "    </tr>\n",
       "    <tr>\n",
       "      <th>4</th>\n",
       "      <td>2608</td>\n",
       "      <td>0.800475</td>\n",
       "    </tr>\n",
       "    <tr>\n",
       "      <th>...</th>\n",
       "      <td>...</td>\n",
       "      <td>...</td>\n",
       "    </tr>\n",
       "    <tr>\n",
       "      <th>3599</th>\n",
       "      <td>6203</td>\n",
       "      <td>0.178509</td>\n",
       "    </tr>\n",
       "    <tr>\n",
       "      <th>3600</th>\n",
       "      <td>6204</td>\n",
       "      <td>0.036719</td>\n",
       "    </tr>\n",
       "    <tr>\n",
       "      <th>3601</th>\n",
       "      <td>6205</td>\n",
       "      <td>0.020524</td>\n",
       "    </tr>\n",
       "    <tr>\n",
       "      <th>3602</th>\n",
       "      <td>6206</td>\n",
       "      <td>0.036385</td>\n",
       "    </tr>\n",
       "    <tr>\n",
       "      <th>3603</th>\n",
       "      <td>6207</td>\n",
       "      <td>0.038587</td>\n",
       "    </tr>\n",
       "  </tbody>\n",
       "</table>\n",
       "<p>3604 rows × 2 columns</p>\n",
       "</div>"
      ],
      "text/plain": [
       "        Id         Y\n",
       "0     2604  0.063183\n",
       "1     2605  0.080340\n",
       "2     2606  0.026708\n",
       "3     2607  0.027151\n",
       "4     2608  0.800475\n",
       "...    ...       ...\n",
       "3599  6203  0.178509\n",
       "3600  6204  0.036719\n",
       "3601  6205  0.020524\n",
       "3602  6206  0.036385\n",
       "3603  6207  0.038587\n",
       "\n",
       "[3604 rows x 2 columns]"
      ]
     },
     "execution_count": 5,
     "metadata": {},
     "output_type": "execute_result"
    }
   ],
   "source": [
    "sub_proba = catboost.predict_proba(df_test)\n",
    "pred_col=np.c_[id,sub_proba[:,1]]\n",
    "\n",
    "submission = pd.DataFrame(pred_col, columns = ['Id','Y'])\n",
    "submission[\"Id\"] = submission[\"Id\"].astype(\"Int32\")\n",
    "submission"
   ]
  },
  {
   "cell_type": "code",
   "execution_count": 6,
   "id": "298a9f5f",
   "metadata": {},
   "outputs": [],
   "source": [
    "submission.to_csv('lastday1submission.csv', index=False)"
   ]
  }
 ],
 "metadata": {
  "kernelspec": {
   "display_name": "Python 3 (ipykernel)",
   "language": "python",
   "name": "python3"
  },
  "language_info": {
   "codemirror_mode": {
    "name": "ipython",
    "version": 3
   },
   "file_extension": ".py",
   "mimetype": "text/x-python",
   "name": "python",
   "nbconvert_exporter": "python",
   "pygments_lexer": "ipython3",
   "version": "3.10.5"
  }
 },
 "nbformat": 4,
 "nbformat_minor": 5
}
