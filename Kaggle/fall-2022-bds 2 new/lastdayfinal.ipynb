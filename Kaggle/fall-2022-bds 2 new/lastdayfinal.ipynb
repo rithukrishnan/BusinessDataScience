{
 "cells": [
  {
   "cell_type": "code",
   "execution_count": 1,
   "id": "411e5d16",
   "metadata": {},
   "outputs": [],
   "source": [
    "import pandas as pd\n",
    "import numpy as np\n",
    "import matplotlib.pyplot as plt\n",
    "from sklearn.model_selection import train_test_split\n",
    "from sklearn.metrics import plot_roc_curve\n",
    "from sklearn.model_selection import cross_val_score\n",
    "from sklearn.metrics import roc_auc_score\n",
    "from sklearn.metrics import mean_squared_error\n",
    "\n",
    "df_train = pd.read_csv('train_final.csv')\n",
    "df_test = pd.read_csv('test_final.csv')"
   ]
  },
  {
   "cell_type": "code",
   "execution_count": 2,
   "id": "1b08faee",
   "metadata": {},
   "outputs": [],
   "source": [
    "target = df_train[\"Y\"]\n",
    "id = df_test[\"Id\"].values\n",
    "\n",
    "df_train.drop(['Id','Y'],axis=1,inplace=True)\n",
    "df_test.drop(['Id'],axis=1,inplace=True)"
   ]
  },
  {
   "cell_type": "code",
   "execution_count": 21,
   "id": "b65dba8c",
   "metadata": {},
   "outputs": [
    {
     "name": "stdout",
     "output_type": "stream",
     "text": [
      "0.9468901278840219\n",
      "Accuracy score is 87.98%\n",
      "Cross validation score for catboost:  90.13474653536677\n"
     ]
    }
   ],
   "source": [
    "from catboost import CatBoostClassifier\n",
    "from sklearn.metrics import accuracy_score\n",
    "\n",
    "para = { 'learning_rate': 0.03, 'n_estimators':400, 'max_depth': 4, \"random_state\":35 ,\"verbose\":0, \"border_count\":70, \"boosting_type\":\"Ordered\", \"class_weights\":[0.55,0.45]}\n",
    "\n",
    "catboost = CatBoostClassifier(**para)\n",
    "#catboost =  CatBoostClassifier(depth=4,iterations=500,logging_level='Silent',subsample=0.8,bootstrap_type='MVS',eval_metric='AUC')\n",
    "\n",
    "catboost.fit(df_train, target)\n",
    "\n",
    "y_proba = catboost.predict_proba(df_train)\n",
    "print(roc_auc_score(target, y_proba[:,1]))\n",
    "\n",
    "\n",
    "y_pred = catboost.predict(df_train)\n",
    "\n",
    "score = (accuracy_score(target, y_pred)) * 100\n",
    "print(\"Accuracy score is %.2f%%\" % score)\n",
    "\n",
    "score = cross_val_score(catboost, df_train, target, scoring=\"roc_auc\", cv=5)\n",
    "print (\"Cross validation score for catboost: \",np.mean(score)*100)"
   ]
  },
  {
   "cell_type": "code",
   "execution_count": null,
   "id": "ee1abf65",
   "metadata": {},
   "outputs": [],
   "source": [
    "0.9468901278840219\n",
    "Accuracy score is 87.98%\n",
    "Cross validation score for catboost:  90.13474653536677"
   ]
  },
  {
   "cell_type": "code",
   "execution_count": 17,
   "id": "0c3f3d9e",
   "metadata": {},
   "outputs": [
    {
     "data": {
      "text/html": [
       "<div>\n",
       "<style scoped>\n",
       "    .dataframe tbody tr th:only-of-type {\n",
       "        vertical-align: middle;\n",
       "    }\n",
       "\n",
       "    .dataframe tbody tr th {\n",
       "        vertical-align: top;\n",
       "    }\n",
       "\n",
       "    .dataframe thead th {\n",
       "        text-align: right;\n",
       "    }\n",
       "</style>\n",
       "<table border=\"1\" class=\"dataframe\">\n",
       "  <thead>\n",
       "    <tr style=\"text-align: right;\">\n",
       "      <th></th>\n",
       "      <th>Id</th>\n",
       "      <th>Y</th>\n",
       "    </tr>\n",
       "  </thead>\n",
       "  <tbody>\n",
       "    <tr>\n",
       "      <th>0</th>\n",
       "      <td>2604</td>\n",
       "      <td>0.060650</td>\n",
       "    </tr>\n",
       "    <tr>\n",
       "      <th>1</th>\n",
       "      <td>2605</td>\n",
       "      <td>0.071617</td>\n",
       "    </tr>\n",
       "    <tr>\n",
       "      <th>2</th>\n",
       "      <td>2606</td>\n",
       "      <td>0.021078</td>\n",
       "    </tr>\n",
       "    <tr>\n",
       "      <th>3</th>\n",
       "      <td>2607</td>\n",
       "      <td>0.014043</td>\n",
       "    </tr>\n",
       "    <tr>\n",
       "      <th>4</th>\n",
       "      <td>2608</td>\n",
       "      <td>0.782579</td>\n",
       "    </tr>\n",
       "    <tr>\n",
       "      <th>...</th>\n",
       "      <td>...</td>\n",
       "      <td>...</td>\n",
       "    </tr>\n",
       "    <tr>\n",
       "      <th>3599</th>\n",
       "      <td>6203</td>\n",
       "      <td>0.171742</td>\n",
       "    </tr>\n",
       "    <tr>\n",
       "      <th>3600</th>\n",
       "      <td>6204</td>\n",
       "      <td>0.027070</td>\n",
       "    </tr>\n",
       "    <tr>\n",
       "      <th>3601</th>\n",
       "      <td>6205</td>\n",
       "      <td>0.005372</td>\n",
       "    </tr>\n",
       "    <tr>\n",
       "      <th>3602</th>\n",
       "      <td>6206</td>\n",
       "      <td>0.050801</td>\n",
       "    </tr>\n",
       "    <tr>\n",
       "      <th>3603</th>\n",
       "      <td>6207</td>\n",
       "      <td>0.035892</td>\n",
       "    </tr>\n",
       "  </tbody>\n",
       "</table>\n",
       "<p>3604 rows × 2 columns</p>\n",
       "</div>"
      ],
      "text/plain": [
       "        Id         Y\n",
       "0     2604  0.060650\n",
       "1     2605  0.071617\n",
       "2     2606  0.021078\n",
       "3     2607  0.014043\n",
       "4     2608  0.782579\n",
       "...    ...       ...\n",
       "3599  6203  0.171742\n",
       "3600  6204  0.027070\n",
       "3601  6205  0.005372\n",
       "3602  6206  0.050801\n",
       "3603  6207  0.035892\n",
       "\n",
       "[3604 rows x 2 columns]"
      ]
     },
     "execution_count": 17,
     "metadata": {},
     "output_type": "execute_result"
    }
   ],
   "source": [
    "sub_proba = catboost.predict_proba(df_test)\n",
    "pred_col=np.c_[id,sub_proba[:,1]]\n",
    "\n",
    "submission = pd.DataFrame(pred_col, columns = ['Id','Y'])\n",
    "submission[\"Id\"] = submission[\"Id\"].astype(\"Int32\")\n",
    "submission"
   ]
  },
  {
   "cell_type": "code",
   "execution_count": 18,
   "id": "298a9f5f",
   "metadata": {},
   "outputs": [],
   "source": [
    "submission.to_csv('post1submission.csv', index=False)"
   ]
  },
  {
   "cell_type": "code",
   "execution_count": null,
   "id": "fe497ab5",
   "metadata": {},
   "outputs": [],
   "source": []
  }
 ],
 "metadata": {
  "kernelspec": {
   "display_name": "Python 3 (ipykernel)",
   "language": "python",
   "name": "python3"
  },
  "language_info": {
   "codemirror_mode": {
    "name": "ipython",
    "version": 3
   },
   "file_extension": ".py",
   "mimetype": "text/x-python",
   "name": "python",
   "nbconvert_exporter": "python",
   "pygments_lexer": "ipython3",
   "version": "3.10.5"
  }
 },
 "nbformat": 4,
 "nbformat_minor": 5
}
