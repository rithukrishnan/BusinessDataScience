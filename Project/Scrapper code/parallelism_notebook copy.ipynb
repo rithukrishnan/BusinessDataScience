{
 "cells": [
  {
   "cell_type": "code",
   "execution_count": null,
   "id": "9833704d",
   "metadata": {},
   "outputs": [],
   "source": [
    "from all_support_functions import *"
   ]
  },
  {
   "cell_type": "code",
   "execution_count": null,
   "id": "0692060f",
   "metadata": {},
   "outputs": [],
   "source": [
    "class Parser:\n",
    "    def __init__(self, link, out_file):\n",
    "        self.link = link\n",
    "        self.out_file = out_file\n",
    "\n",
    "    \n",
    "    def build_urls(self, listings_per_page=20, pages_per_location=1):\n",
    "        \"\"\"Builds links for all search pages for a given location\"\"\"\n",
    "        url_list = []\n",
    "        for i in range(pages_per_location):\n",
    "            offset = listings_per_page * i\n",
    "            url_pagination = self.link + f'&items_offset={offset}'\n",
    "            url_list.append(url_pagination)\n",
    "            self.url_list = url_list\n",
    "\n",
    "\n",
    "    def process_search_pages(self):\n",
    "        \"\"\"Extract features from all search pages\"\"\"\n",
    "        features_list = []\n",
    "        for page in self.url_list:\n",
    "            listings = extract_listings(page)\n",
    "            for listing in listings:\n",
    "                features = extract_listing_features(listing, RULES_SEARCH_PAGE)\n",
    "                features['sp_url'] = page\n",
    "                features_list.append(features)\n",
    "        \n",
    "        self.base_features_list = features_list\n",
    "\n",
    "        \n",
    "\n",
    "    def process_detail_pages(self):\n",
    "        print(\"in the details\")\n",
    "        \"\"\"Runs detail pages processing in parallel\"\"\"\n",
    "        pool = multiprocessing.Pool()\n",
    "        pool = multiprocessing.Pool(processes=4)\n",
    "        result = pool.map(scrape_detail_page, self.base_features_list)\n",
    "        pool.close()\n",
    "#         pool.join()\n",
    "#         result=[]\n",
    "#         #print(self.base_features_list)\n",
    "#         for i in self.base_features_list:\n",
    "#             result.append(scrape_detail_page(i))\n",
    "        self.all_features_list = result\n",
    "\n",
    "\n",
    "    def save(self, feature_set='all'):\n",
    "        if feature_set == 'basic':\n",
    "            pd.DataFrame(self.base_features_list).to_csv(self.out_file, index=False)\n",
    "        elif feature_set == 'all':\n",
    "            pd.DataFrame(self.all_features_list).to_csv(self.out_file, index=False)\n",
    "        else:\n",
    "            pass\n",
    "            \n",
    "        \n",
    "    def parse(self):\n",
    "        self.build_urls()\n",
    "        self.process_search_pages()\n",
    "        self.process_detail_pages()\n",
    "        self.save('all')"
   ]
  },
  {
   "cell_type": "code",
   "execution_count": null,
   "id": "4a857c03",
   "metadata": {},
   "outputs": [],
   "source": [
    "%%time\n",
    "AIRBNB_LINK = 'https://www.airbnb.com/s/Capitola--California--United-States/homes?tab_id=home_tab&refinement_paths%5B%5D=%2Fhomes&flexible_trip_lengths%5B%5D=one_week&price_filter_input_type=0&price_filter_num_nights=5&query=Capitola%2C%20CA&place_id=ChIJ066GeHQVjoAR58t1aK7zMNw&date_picker_type=calendar&source=structured_search_input_header&search_type=autocomplete_click'\n",
    "if __name__ == \"__main__\":\n",
    "    new_parser = Parser(AIRBNB_LINK, './test.csv')\n",
    "    t0 = time.time()\n",
    "    new_parser.parse()\n",
    "    print(time.time() - t0)"
   ]
  }
 ],
 "metadata": {
  "kernelspec": {
   "display_name": "Python 3 (ipykernel)",
   "language": "python",
   "name": "python3"
  },
  "language_info": {
   "codemirror_mode": {
    "name": "ipython",
    "version": 3
   },
   "file_extension": ".py",
   "mimetype": "text/x-python",
   "name": "python",
   "nbconvert_exporter": "python",
   "pygments_lexer": "ipython3",
   "version": "3.10.5"
  }
 },
 "nbformat": 4,
 "nbformat_minor": 5
}
